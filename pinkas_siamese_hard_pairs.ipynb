{
 "cells": [
  {
   "cell_type": "code",
   "execution_count": 1,
   "metadata": {
    "collapsed": false
   },
   "outputs": [
    {
     "name": "stderr",
     "output_type": "stream",
     "text": [
      "Using TensorFlow backend.\n"
     ]
    }
   ],
   "source": [
    "import numpy as np\n",
    "import codecs\n",
    "import pickle\n",
    "from keras.models import Sequential, Model, load_model\n",
    "from keras.layers import Dense, Dropout, Lambda, Flatten, Input, MaxPooling2D, Convolution2D,Conv2D,Activation,BatchNormalization\n",
    "from keras.optimizers import Adam\n",
    "from keras import backend as K\n",
    "from keras.callbacks import ModelCheckpoint\n",
    "from scipy import misc\n",
    "import os\n",
    "from os.path import isfile, join\n",
    "import itertools\n",
    "import random\n",
    "import keras\n",
    "from keras.constraints import maxnorm\n",
    "from keras.models import Model\n",
    "from keras.callbacks import Callback\n",
    "from keras.optimizers import SGD,Adam\n",
    "from keras.applications import VGG16\n",
    "from keras.layers.merge import concatenate\n",
    "from keras.applications.vgg16 import preprocess_input\n",
    "from keras.preprocessing import image\n",
    "import matplotlib.pyplot as plt\n",
    "import matplotlib\n",
    "from IPython.display import display, Image\n",
    "import PIL\n",
    "import glob\n",
    "from scipy.misc import imresize, imread\n",
    "from scipy.spatial.distance import pdist, squareform, cdist\n",
    "import cv2"
   ]
  },
  {
   "cell_type": "code",
   "execution_count": 2,
   "metadata": {
    "collapsed": false
   },
   "outputs": [],
   "source": [
    "np.random.seed(7)\n",
    "os.environ[\"CUDA_VISIBLE_DEVICES\"] = \"3\"\n",
    "TRAIN_DIR='data/TRAIN'\n",
    "TEST_DIR='data/TEST'"
   ]
  },
  {
   "cell_type": "code",
   "execution_count": 3,
   "metadata": {
    "collapsed": true
   },
   "outputs": [],
   "source": [
    "'''\n",
    "Created on Jul 10, 2016\n",
    "\n",
    "@author: ssudholt\n",
    "'''\n",
    "import numpy as np\n",
    "from scipy.spatial.distance import pdist, squareform, cdist\n",
    "\n",
    "def map_from_feature_matrix(features, labels, metric, drop_first):\n",
    "    '''\n",
    "    Computes mAP and APs from a given matrix of feature vectors\n",
    "    Each sample is used as a query once and all the other samples are\n",
    "    used for testing. The user can specify whether he wants to include\n",
    "    the query in the test results as well or not.\n",
    "    \n",
    "    Args:\n",
    "        features (2d-ndarray): the feature representation from which to compute the mAP\n",
    "        labels (1d-ndarray or list): the labels corresponding to the features (either numeric or characters)\n",
    "        metric (string): the metric to be used in calculating the mAP\n",
    "        drop_first (bool): whether to drop the first retrieval result or not\n",
    "    '''\n",
    "    # argument error checks\n",
    "    if features.shape[0] != len(labels):\n",
    "        raise ValueError('The number of feature vectors and number of labels must match')\n",
    "    # compute the pairwise distances from the\n",
    "    # features\n",
    "    dists = pdist(X=features, metric=metric)\n",
    "    dists = squareform(dists)\n",
    "    inds = np.argsort(dists, axis=1)\n",
    "    retr_mat = np.tile(labels, (features.shape[0],1))\n",
    "    \n",
    "    # compute two matrices for selecting rows and columns\n",
    "    # from the label matrix\n",
    "    # -> advanced indexing\n",
    "    row_selector = np.transpose(np.tile(np.arange(features.shape[0]), (features.shape[0],1)))\n",
    "    retr_mat = retr_mat[row_selector, inds]\n",
    "    \n",
    "    # create the relevance matrix\n",
    "    rel_matrix = retr_mat == np.atleast_2d(labels).T\n",
    "    if drop_first:\n",
    "        rel_matrix = rel_matrix[:,1:]\n",
    "        \n",
    "    # calculate mAP and APs\n",
    "    map_calc = MeanAveragePrecision()\n",
    "    avg_precs = np.array([map_calc.average_precision(row) for row in rel_matrix])\n",
    "    mAP = np.mean(avg_precs)\n",
    "    return mAP, avg_precs\n",
    "\n",
    "def map_from_query_test_feature_matrices(query_features, test_features, query_labels, test_labels, \n",
    "                                         metric, drop_first=False):\n",
    "    '''\n",
    "    Computes mAP and APs for a given matrix of query representations\n",
    "    and another matrix of test representations\n",
    "    Each query is used once to rank the test samples.\n",
    "    \n",
    "    Args:\n",
    "        query_features (2d-ndarray): the feature representation for the queries\n",
    "        query_labels (1d-ndarray or list): the labels corresponding to the queries (either numeric or characters)\n",
    "        test_features (2d-ndarray): the feature representation for the test samples\n",
    "        test_labels (1d-ndarray or list): the labels corresponding to the test samples (either numeric or characters)\n",
    "        metric (string): the metric to be used in calculating the mAP\n",
    "        drop_first (bool): whether to drop the first retrieval result or not\n",
    "    '''\n",
    "    # some argument error checking\n",
    "    if query_features.shape[1] != test_features.shape[1]:\n",
    "        raise ValueError('Shape mismatch')\n",
    "    if query_features.shape[0] != len(query_labels):\n",
    "        raise ValueError('The number of query feature vectors and query labels does not match')\n",
    "    if test_features.shape[0] != len(test_labels):\n",
    "        raise ValueError('The number of test feature vectors and test labels does not match')\n",
    "    \n",
    "    # compute the nearest neighbors\n",
    "    dist_mat = cdist(XA=query_features, XB=test_features, metric=metric)\n",
    "    retrieval_indices = np.argsort(dist_mat, axis=1)\n",
    "    \n",
    "    # create the retrieval matrix\n",
    "    retr_mat = np.tile(test_labels, (len(query_labels),1))\n",
    "    row_selector = np.transpose(np.tile(np.arange(len(query_labels)), (len(test_labels),1)))\n",
    "    retr_mat = retr_mat[row_selector, retrieval_indices]\n",
    "    \n",
    "    # create the relevance matrix\n",
    "    relevance_matrix = retr_mat == np.atleast_2d(query_labels).T\n",
    "    if drop_first:\n",
    "        relevance_matrix = relevance_matrix[:,1:]\n",
    "    \n",
    "    # calculate mAP and APs\n",
    "    mapCalc = MeanAveragePrecision()\n",
    "    avg_precs = np.array([mapCalc.average_precision(row) for row in relevance_matrix], ndmin=2).flatten()\n",
    "    mAP = np.mean(avg_precs)    \n",
    "    return mAP, avg_precs\n",
    "\n",
    "class IterativeMean(object):\n",
    "    '''\n",
    "    Class for iteratively computing a mean. With every new value (@see: _add_value)\n",
    "    the mean will be updated \n",
    "    '''\n",
    "    \n",
    "    def __init__(self, mean_init=0.0):\n",
    "        self.__mean = mean_init\n",
    "        self.__N = 0.0\n",
    "        \n",
    "    def add_value(self, value):\n",
    "        '''\n",
    "        Updates the mean with respect to value\n",
    "        \n",
    "        Args:\n",
    "            value (float): The value that will be incorporated in the mean\n",
    "        '''  \n",
    "        self.__mean = (self.__N / (self.__N + 1)) * self.__mean + (1.0 / (self.__N + 1)) * value\n",
    "        self.__N += 1\n",
    "        \n",
    "    def get_mean(self):\n",
    "        return self.__mean\n",
    "    \n",
    "    def reset(self):\n",
    "        self.__mean = 0.0\n",
    "        self.__N = 0.0\n",
    "         \n",
    "\n",
    "class MeanAveragePrecision(IterativeMean):\n",
    "    '''\n",
    "    Computes average precision values and iteratively updates their mean\n",
    "    '''\n",
    "    def __init__(self):\n",
    "        super(MeanAveragePrecision, self).__init__()        \n",
    "        \n",
    "    def average_precision(self, ret_vec_relevance, gt_relevance_num=None):\n",
    "        '''\n",
    "        Computes the average precision and updates the mean average precision\n",
    "        \n",
    "        Args:\n",
    "            ret_vec_relevance (1d-ndarray): array containing ground truth (gt) relevance values\n",
    "            gt_relevance_num (int): The number of relevant samples in retrieval. If None the sum\n",
    "                                    over the retrieval gt list is used.\n",
    "        '''\n",
    "        ret_vec_cumsum = np.cumsum(ret_vec_relevance, dtype=float)\n",
    "        ret_vec_range = np.arange(1, ret_vec_relevance.size + 1)\n",
    "        ret_vec_precision = ret_vec_cumsum / ret_vec_range\n",
    "        \n",
    "        if gt_relevance_num is None:\n",
    "            n_relevance = ret_vec_relevance.sum()\n",
    "        else:\n",
    "            n_relevance = gt_relevance_num\n",
    "\n",
    "        if n_relevance > 0:\n",
    "            ret_vec_ap = (ret_vec_precision * ret_vec_relevance).sum() / n_relevance\n",
    "        else:\n",
    "            ret_vec_ap = 0.0\n",
    "        \n",
    "        super(MeanAveragePrecision, self).add_value(ret_vec_ap)\n",
    "        \n",
    "        return ret_vec_ap"
   ]
  },
  {
   "cell_type": "code",
   "execution_count": 4,
   "metadata": {
    "collapsed": true
   },
   "outputs": [],
   "source": [
    "def n_image_pair_names_from_folder(foldername,shuffle,ratio,number_of_same_pairs):\n",
    "    image_classes = {}\n",
    "    for image_name in os.listdir(foldername):\n",
    "        class_name = image_name[0:-4].split('_')[0]\n",
    "        if class_name in image_classes:\n",
    "            image_classes[class_name].append(image_name)\n",
    "        else:\n",
    "            image_classes[class_name] = [image_name]\n",
    "    image_pairs = []\n",
    "    class_list = sorted(list(image_classes.keys()))\n",
    "    for i, c in enumerate(class_list):\n",
    "        images_in_class = image_classes[c]\n",
    "        # same pairs\n",
    "        same_pairs_it = itertools.permutations(images_in_class, 2)\n",
    "        list_same_pairs=list(same_pairs_it)\n",
    "        random.shuffle(list_same_pairs)\n",
    "        n_same_pairs=list_same_pairs[:number_of_same_pairs]\n",
    "        # for each same pair, a different pair\n",
    "        for ref_image, same_image in n_same_pairs:\n",
    "            image_pairs.append((ref_image, same_image, 1))\n",
    "            for r in range(ratio):\n",
    "                while True:\n",
    "                    j = np.random.randint(low=0, high=len(class_list), size=1)[0]\n",
    "                    if j != i: break\n",
    "                dif_image_candidates = image_classes[class_list[j]]\n",
    "                k = np.random.randint(low=0, high=len(dif_image_candidates), size=1)[0]\n",
    "                dif_image = dif_image_candidates[k]\n",
    "                image_pairs.append((ref_image, dif_image, 0))\n",
    "    if(shuffle):\n",
    "        random.shuffle(image_pairs)\n",
    "    return image_pairs"
   ]
  },
  {
   "cell_type": "code",
   "execution_count": 5,
   "metadata": {
    "collapsed": true
   },
   "outputs": [],
   "source": [
    "def image_pair_names_from_folder(foldername,shuffle,ratio):\n",
    "    image_classes = {}\n",
    "    for image_name in os.listdir(foldername):\n",
    "        class_name = image_name[0:-4].split('_')[0]\n",
    "        if class_name in image_classes:\n",
    "            image_classes[class_name].append(image_name)\n",
    "        else:\n",
    "            image_classes[class_name] = [image_name]\n",
    "    image_pairs = []\n",
    "    class_list = sorted(list(image_classes.keys()))\n",
    "    for i, c in enumerate(class_list):\n",
    "        images_in_class = image_classes[c]\n",
    "        # same pairs\n",
    "        same_pairs_it = itertools.permutations(images_in_class, 2)\n",
    "        # for each same pair, a different pair\n",
    "        for ref_image, same_image in same_pairs_it:\n",
    "            image_pairs.append((ref_image, same_image, 1))\n",
    "            for r in range(ratio):\n",
    "                while True:\n",
    "                    j = np.random.randint(low=0, high=len(class_list), size=1)[0]\n",
    "                    if j != i: break\n",
    "                dif_image_candidates = image_classes[class_list[j]]\n",
    "                k = np.random.randint(low=0, high=len(dif_image_candidates), size=1)[0]\n",
    "                dif_image = dif_image_candidates[k]\n",
    "                image_pairs.append((ref_image, dif_image, 0))\n",
    "    if(shuffle):\n",
    "        random.shuffle(image_pairs)\n",
    "    return image_pairs"
   ]
  },
  {
   "cell_type": "code",
   "execution_count": 6,
   "metadata": {
    "collapsed": false
   },
   "outputs": [
    {
     "name": "stdout",
     "output_type": "stream",
     "text": [
      "Some sample train pair names:  [('361_11.png', '361_12.png', 1), ('329_3.png', '329_7.png', 1), ('2695_1.png', '1498_1.png', 0), ('498_1.png', '498_5.png', 1), ('405_7.png', '405_1.png', 1)]\n",
      "number of train pairs:  69344\n"
     ]
    }
   ],
   "source": [
    "train_pair_names=n_image_pair_names_from_folder(TRAIN_DIR,True,1,100)\n",
    "number_of_train_pairs=len(train_pair_names)\n",
    "print(\"Some sample train pair names: \", train_pair_names[:5])\n",
    "print('number of train pairs: ', number_of_train_pairs)"
   ]
  },
  {
   "cell_type": "code",
   "execution_count": 7,
   "metadata": {
    "collapsed": true
   },
   "outputs": [],
   "source": [
    "def select_hard_negatives(features, labels):\n",
    "    dists = pdist(X=features, metric='cosine')\n",
    "    dists = squareform(dists)\n",
    "    inds = np.argsort(dists, axis=1)\n",
    "    retr_mat = np.tile(labels, (features.shape[0],1))\n",
    "    row_selector = np.transpose(np.tile(np.arange(features.shape[0]), (features.shape[0],1)))\n",
    "    retr_mat = retr_mat[row_selector, inds]\n",
    "    rel_matrix = retr_mat == np.atleast_2d(labels).T\n",
    "      \n",
    "    hard_negatives=[]\n",
    "    for row in range(rel_matrix.shape[0]):\n",
    "        rel_row=rel_matrix[row]\n",
    "        last_true_index=np.where(rel_row==True)[0][-1]\n",
    "        rel_indices=rel_row[:last_true_index]\n",
    "        false_indices=(np.where(rel_indices==False)[0]).tolist()\n",
    "        for index in (false_indices):\n",
    "            hard_negatives.append((labels[row],labels[index]))\n",
    "    \n",
    "    shn=set(hard_negatives)\n",
    "    rshn=set([(item[1],item[0]) for item in shn ])\n",
    "    result=list(shn.intersection(rshn))\n",
    "    return result"
   ]
  },
  {
   "cell_type": "code",
   "execution_count": 8,
   "metadata": {
    "collapsed": false
   },
   "outputs": [],
   "source": [
    "def image_pair_names_from_hard_negatives(foldername,hard_list,shuffle,ratio):\n",
    "    image_classes = {}\n",
    "    for image_name in os.listdir(foldername):\n",
    "        class_name = image_name[0:-4].split('_')[0]\n",
    "        if class_name in image_classes:\n",
    "            image_classes[class_name].append(image_name)\n",
    "        else:\n",
    "            image_classes[class_name] = [image_name]\n",
    "    image_pairs = []\n",
    "    class_list = sorted(list(image_classes.keys()))\n",
    "    for i, c in enumerate(class_list):\n",
    "        images_in_class = image_classes[c]\n",
    "        # same pairs\n",
    "        same_pairs_it = itertools.permutations(images_in_class, 2)\n",
    "        # for each same pair, a different pair\n",
    "        for ref_image, same_image in same_pairs_it:\n",
    "            image_pairs.append((ref_image, same_image, 1))\n",
    "            for r in range(ratio):\n",
    "                j = np.random.randint(low=0, high=len(hard_list), size=1)[0]\n",
    "                dif_image_candidates1 = image_classes[str(hard_list[j][0])]\n",
    "                k1 = np.random.randint(low=0, high=len(dif_image_candidates1), size=1)[0]\n",
    "                dif_image1 = dif_image_candidates1[k1]\n",
    "                dif_image_candidates2 = image_classes[str(hard_list[j][1])]\n",
    "                k2 = np.random.randint(low=0, high=len(dif_image_candidates2), size=1)[0]\n",
    "                dif_image2 = dif_image_candidates2[k2]\n",
    "                image_pairs.append((dif_image1, dif_image2, 0))\n",
    "    if(shuffle):\n",
    "        random.shuffle(image_pairs)\n",
    "    return image_pairs"
   ]
  },
  {
   "cell_type": "code",
   "execution_count": 9,
   "metadata": {
    "collapsed": true
   },
   "outputs": [],
   "source": [
    "def n_image_pair_names_from_hard_negatives(foldername,hard_list,shuffle,ratio):\n",
    "    image_classes = {}\n",
    "    for image_name in os.listdir(foldername):\n",
    "        class_name = image_name[0:-4].split('_')[0]\n",
    "        if class_name in image_classes:\n",
    "            image_classes[class_name].append(image_name)\n",
    "        else:\n",
    "            image_classes[class_name] = [image_name]\n",
    "    image_pairs = []\n",
    "    class_list = sorted(list(image_classes.keys()))\n",
    "    for i, c in enumerate(class_list):\n",
    "        images_in_class = image_classes[c]\n",
    "        # same pairs\n",
    "        same_pairs_it = itertools.permutations(images_in_class, 2)\n",
    "        # for each same pair, a different pair\n",
    "        for ref_image, same_image in same_pairs_it:\n",
    "            image_pairs.append((ref_image, same_image, 1))\n",
    "            for r in range(ratio):\n",
    "                j = np.random.randint(low=0, high=len(hard_list), size=1)[0]\n",
    "                dif_image_candidates1 = image_classes[str(hard_list[j][0])]\n",
    "                k1 = np.random.randint(low=0, high=len(dif_image_candidates1), size=1)[0]\n",
    "                dif_image1 = dif_image_candidates1[k1]\n",
    "                dif_image_candidates2 = image_classes[str(hard_list[j][1])]\n",
    "                k2 = np.random.randint(low=0, high=len(dif_image_candidates2), size=1)[0]\n",
    "                dif_image2 = dif_image_candidates2[k2]\n",
    "                image_pairs.append((dif_image1, dif_image2, 0))\n",
    "    if(shuffle):\n",
    "        random.shuffle(image_pairs)\n",
    "    return image_pairs"
   ]
  },
  {
   "cell_type": "code",
   "execution_count": 10,
   "metadata": {
    "collapsed": false
   },
   "outputs": [
    {
     "data": {
      "image/png": "[encoded data removed]",
      "text/plain": [
       "<IPython.core.display.Image object>"
      ]
     },
     "metadata": {},
     "output_type": "display_data"
    },
    {
     "data": {
      "image/png": "[encoded data removed]",
      "text/plain": [
       "<IPython.core.display.Image object>"
      ]
     },
     "metadata": {},
     "output_type": "display_data"
    }
   ],
   "source": [
    "pair1 = Image(TRAIN_DIR+'/252_2.png')\n",
    "pair2 = Image(TRAIN_DIR+'/252_1.png')\n",
    "display(pair1,pair2)"
   ]
  },
  {
   "cell_type": "code",
   "execution_count": 11,
   "metadata": {
    "collapsed": true
   },
   "outputs": [],
   "source": [
    "def get_input(path):\n",
    "    img = cv2.imread(path, 0)\n",
    "    img = cv2.resize(img, (90, 40))\n",
    "    img = img.astype('float32')\n",
    "    img = img / 255. \n",
    "    img = img.reshape(img.shape + (1,))\n",
    "    return (img)"
   ]
  },
  {
   "cell_type": "code",
   "execution_count": 12,
   "metadata": {
    "collapsed": false
   },
   "outputs": [],
   "source": [
    "class DataGenerator(keras.utils.Sequence):\n",
    "    'Generates data for Keras'\n",
    "    def __init__(self, list_IDs, batch_size=32, shuffle=True):\n",
    "        'Initialization'\n",
    "        self.batch_size = batch_size\n",
    "        self.list_IDs = list_IDs\n",
    "        self.shuffle = shuffle\n",
    "        self.on_epoch_end()\n",
    "\n",
    "    def __len__(self):\n",
    "        'Denotes the number of batches per epoch'\n",
    "        return int(np.floor(len(self.list_IDs) / self.batch_size))\n",
    "\n",
    "    def __getitem__(self, index):\n",
    "        'Generate one batch of data'\n",
    "        # Generate indexes of the batch\n",
    "        indexes = self.indexes[index*self.batch_size:(index+1)*self.batch_size]\n",
    "\n",
    "        # Find list of IDs\n",
    "        list_IDs_temp = [self.list_IDs[k] for k in indexes]\n",
    "\n",
    "        # Generate data\n",
    "        X, y = self.__data_generation(list_IDs_temp)\n",
    "\n",
    "        return [X[:, 0], X[:, 1]], y\n",
    "\n",
    "    def on_epoch_end(self):\n",
    "        'Updates indexes after each epoch'\n",
    "        self.indexes = np.arange(len(self.list_IDs))\n",
    "        if self.shuffle == True:\n",
    "            np.random.shuffle(self.indexes)\n",
    "\n",
    "    def __data_generation(self, list_IDs_temp):\n",
    "        'Generates data containing batch_size samples' # X : (n_samples, *dim,)\n",
    "        # Initialization\n",
    "        X = []\n",
    "        y = []\n",
    "\n",
    "        # Generate data\n",
    "        for i, ID in enumerate(list_IDs_temp):\n",
    "            # Store sample\n",
    "            image1=get_input(TRAIN_DIR+'/'+ID[0])\n",
    "            image2=get_input(TRAIN_DIR+'/'+ID[1])\n",
    "            X += [[image1, image2]]\n",
    "\n",
    "            # Store class\n",
    "            y.append(ID[2])\n",
    "            aX=np.array(X)\n",
    "            ay=np.array(y)\n",
    "\n",
    "        return aX,ay\n"
   ]
  },
  {
   "cell_type": "code",
   "execution_count": 13,
   "metadata": {
    "collapsed": true
   },
   "outputs": [],
   "source": [
    "def load_test_data(foldername):\n",
    "    images=[]\n",
    "    labels=[]\n",
    "    for image_name in os.listdir(foldername):\n",
    "        label = int(image_name[0:-4].split('_')[0])\n",
    "        labels.append(label)\n",
    "        image=get_input(foldername+'/'+image_name)\n",
    "        images.append(image)\n",
    "    return np.array(images), np.array(labels)"
   ]
  },
  {
   "cell_type": "code",
   "execution_count": 14,
   "metadata": {
    "collapsed": true
   },
   "outputs": [],
   "source": [
    "def show_array(a):\n",
    "    plt.imshow(a, cmap=plt.get_cmap('gray'))\n",
    "    plt.show()"
   ]
  },
  {
   "cell_type": "code",
   "execution_count": 15,
   "metadata": {
    "collapsed": false
   },
   "outputs": [
    {
     "data": {
      "image/png": "[encoded data removed]",
      "text/plain": [
       "<matplotlib.figure.Figure at 0x7efc7aae0828>"
      ]
     },
     "metadata": {},
     "output_type": "display_data"
    }
   ],
   "source": [
    "x_test, y_test=load_test_data(TEST_DIR)\n",
    "show_array(np.squeeze(x_test[0]))"
   ]
  },
  {
   "cell_type": "code",
   "execution_count": 16,
   "metadata": {
    "collapsed": false
   },
   "outputs": [
    {
     "data": {
      "image/png": "[encoded data removed]",
      "text/plain": [
       "<matplotlib.figure.Figure at 0x7efc7a3eaba8>"
      ]
     },
     "metadata": {},
     "output_type": "display_data"
    }
   ],
   "source": [
    "x_train, y_train=load_test_data(TRAIN_DIR)\n",
    "show_array(np.squeeze(x_train[0]))"
   ]
  },
  {
   "cell_type": "code",
   "execution_count": 17,
   "metadata": {
    "collapsed": false
   },
   "outputs": [],
   "source": [
    "def create_base_network(input_dim):\n",
    "    model=Sequential()\n",
    "    model.add(Conv2D(64, (3, 3), input_shape=input_dim, activation='relu', padding='same'))\n",
    "    model.add(Dropout(0.2))\n",
    "    model.add(Conv2D(128, (3, 3), activation='relu', padding='same'))\n",
    "    model.add(MaxPooling2D(pool_size=(2, 2)))\n",
    "    model.add(Conv2D(256, (3, 3), activation='relu', padding='same'))\n",
    "    model.add(Dropout(0.2))\n",
    "    model.add(Conv2D(256, (3, 3), activation='relu', padding='same'))\n",
    "    model.add(MaxPooling2D(pool_size=(2, 2)))\n",
    "    model.add(Conv2D(512, (3, 3), activation='relu', padding='same'))\n",
    "    model.add(Dropout(0.2))\n",
    "    model.add(Conv2D(512, (3, 3), padding='same'))\n",
    "    model.add(BatchNormalization())\n",
    "    model.add(Activation('relu'))\n",
    "    model.add(MaxPooling2D(pool_size=(2, 2)))\n",
    "    model.add(Conv2D(512, (2, 2), padding='same'))\n",
    "    model.add(BatchNormalization())\n",
    "    model.add(Activation('relu')) \n",
    "    model.add(Flatten())\n",
    "    model.add(Dropout(0.2))\n",
    "    model.add(Dense(512, activation='relu', kernel_constraint=maxnorm(3)))\n",
    "\n",
    "\n",
    "    return model"
   ]
  },
  {
   "cell_type": "code",
   "execution_count": 18,
   "metadata": {
    "collapsed": true
   },
   "outputs": [],
   "source": [
    "class custom_call(Callback):\n",
    "    def __init__(self):\n",
    "        self.patient=0\n",
    "        self.best_map=0\n",
    "    def on_epoch_end(self, epoch, logs={}):\n",
    "        if self.patient>=15:\n",
    "            print('patient= ', self.patient)\n",
    "            self.model.stop_training = True\n",
    "        feat_extractor = Model(inputs=self.model.layers[2].get_input_at(0), outputs=self.model.layers[2].layers[19].output)\n",
    "        features=feat_extractor.predict(x_test)\n",
    "        current_map=map_from_feature_matrix(features, y_test, 'cosine', True)[0]\n",
    "        print(' map:',current_map)\n",
    "        if current_map>=self.best_map:\n",
    "            self.patient=0\n",
    "            self.best_map=current_map\n",
    "            print('best map=',self.best_map)\n",
    "            print('patient=',self.patient)\n",
    "            for f in glob.glob(\"hard_pairs_best_model*\"):\n",
    "                os.remove(f)\n",
    "            self.model.save('hard_pairs_best_model_'+str(self.best_map)[:5])\n",
    "        else:\n",
    "            self.patient=self.patient+1\n",
    "            print('current map=',current_map)\n",
    "            print('best map=',self.best_map)\n",
    "            print('patient=',self.patient)\n",
    "    def on_batch_end(self,batch,logs={}):\n",
    "        if batch%500==0:\n",
    "            feat_extractor = Model(inputs=self.model.layers[2].get_input_at(0), outputs=self.model.layers[2].layers[19].output)\n",
    "            features=feat_extractor.predict(x_test)\n",
    "            test_map=map_from_feature_matrix(features, y_test, 'cosine', True)[0]\n",
    "            print('test map:',test_map)\n",
    "            "
   ]
  },
  {
   "cell_type": "code",
   "execution_count": 19,
   "metadata": {
    "collapsed": true
   },
   "outputs": [],
   "source": [
    "print_map=custom_call()\n",
    "training_generator = DataGenerator(train_pair_names, batch_size=16, shuffle=True)"
   ]
  },
  {
   "cell_type": "code",
   "execution_count": 20,
   "metadata": {
    "collapsed": false
   },
   "outputs": [
    {
     "data": {
      "text/plain": [
       "\"\\ninput_dim = (40,90,1)\\nbase_network = create_base_network(input_dim)\\ninput_a = Input(shape=input_dim)\\ninput_b = Input(shape=input_dim)\\n\\nprocessed_a = base_network(input_a)\\nprocessed_b = base_network(input_b)\\n\\nabs_diff = Lambda(get_abs_diff, output_shape=abs_diff_output_shape)([processed_a, processed_b])\\nflattened_weighted_distance = Dense(1, activation='sigmoid')(abs_diff)\\nmodel = Model(inputs=[input_a, input_b], outputs=flattened_weighted_distance)\\n\""
      ]
     },
     "execution_count": 20,
     "metadata": {},
     "output_type": "execute_result"
    }
   ],
   "source": [
    "def abs_diff_output_shape(shapes):\n",
    "    shape1, shape2 = shapes\n",
    "    return shape1\n",
    "\n",
    "\n",
    "def get_abs_diff(vects):\n",
    "    x, y = vects\n",
    "    return K.abs(x - y)\n",
    "\n",
    "model=load_model('random_pairs_best_model_0.587')\n",
    "\n",
    "'''\n",
    "input_dim = (40,90,1)\n",
    "base_network = create_base_network(input_dim)\n",
    "input_a = Input(shape=input_dim)\n",
    "input_b = Input(shape=input_dim)\n",
    "\n",
    "processed_a = base_network(input_a)\n",
    "processed_b = base_network(input_b)\n",
    "\n",
    "abs_diff = Lambda(get_abs_diff, output_shape=abs_diff_output_shape)([processed_a, processed_b])\n",
    "flattened_weighted_distance = Dense(1, activation='sigmoid')(abs_diff)\n",
    "model = Model(inputs=[input_a, input_b], outputs=flattened_weighted_distance)\n",
    "'''"
   ]
  },
  {
   "cell_type": "code",
   "execution_count": 21,
   "metadata": {
    "collapsed": true
   },
   "outputs": [],
   "source": [
    "opt = SGD(lr=0.01)\n",
    "model.compile(loss='binary_crossentropy', optimizer=opt, metrics=['accuracy'])"
   ]
  },
  {
   "cell_type": "code",
   "execution_count": 22,
   "metadata": {
    "collapsed": false
   },
   "outputs": [],
   "source": [
    "feat_extractor = Model(inputs=model.layers[2].get_input_at(0), outputs=model.layers[2].layers[19].output)\n",
    "features=feat_extractor.predict(x_test)"
   ]
  },
  {
   "cell_type": "code",
   "execution_count": 23,
   "metadata": {
    "collapsed": false
   },
   "outputs": [
    {
     "data": {
      "text/plain": [
       "0.58779461876663941"
      ]
     },
     "execution_count": 23,
     "metadata": {},
     "output_type": "execute_result"
    }
   ],
   "source": [
    "map_from_feature_matrix(features, y_test, 'cosine', True)[0]"
   ]
  },
  {
   "cell_type": "code",
   "execution_count": 24,
   "metadata": {
    "collapsed": true
   },
   "outputs": [],
   "source": [
    "train_features=feat_extractor.predict(x_train)"
   ]
  },
  {
   "cell_type": "code",
   "execution_count": 25,
   "metadata": {
    "collapsed": false
   },
   "outputs": [
    {
     "data": {
      "text/plain": [
       "0.43723453351885161"
      ]
     },
     "execution_count": 25,
     "metadata": {},
     "output_type": "execute_result"
    }
   ],
   "source": [
    "map_from_feature_matrix(train_features, y_train, 'cosine', True)[0]"
   ]
  },
  {
   "cell_type": "code",
   "execution_count": 26,
   "metadata": {
    "collapsed": false
   },
   "outputs": [],
   "source": [
    "hard_negatives= select_hard_negatives(train_features, y_train)"
   ]
  },
  {
   "cell_type": "code",
   "execution_count": 27,
   "metadata": {
    "collapsed": false
   },
   "outputs": [],
   "source": [
    "hard_train_pair_names=image_pair_names_from_hard_negatives(TRAIN_DIR,hard_negatives,True,1)"
   ]
  },
  {
   "cell_type": "code",
   "execution_count": 28,
   "metadata": {
    "collapsed": false
   },
   "outputs": [
    {
     "name": "stdout",
     "output_type": "stream",
     "text": [
      "Some sample hard train pair names:  [('780_3.png', '697_1.png', 0), ('76_1.png', '76_15.png', 1), ('223_22.png', '223_30.png', 1), ('1269_16.png', '1269_7.png', 1), ('1268_8.png', '2615_18.png', 0)]\n",
      "number of hard train pairs:  338880\n"
     ]
    }
   ],
   "source": [
    "number_of_hard_train_pairs=len(hard_train_pair_names)\n",
    "print(\"Some sample hard train pair names: \", hard_train_pair_names[:5])\n",
    "print('number of hard train pairs: ', number_of_hard_train_pairs)"
   ]
  },
  {
   "cell_type": "code",
   "execution_count": 29,
   "metadata": {
    "collapsed": false
   },
   "outputs": [
    {
     "data": {
      "image/png": "[encoded data removed]",
      "text/plain": [
       "<IPython.core.display.Image object>"
      ]
     },
     "metadata": {},
     "output_type": "display_data"
    },
    {
     "data": {
      "image/png": "[encoded data removed]",
      "text/plain": [
       "<IPython.core.display.Image object>"
      ]
     },
     "metadata": {},
     "output_type": "display_data"
    }
   ],
   "source": [
    "pair1 = Image(TRAIN_DIR+'/780_3.png')\n",
    "pair2 = Image(TRAIN_DIR+'/697_1.png')\n",
    "display(pair1,pair2)"
   ]
  },
  {
   "cell_type": "code",
   "execution_count": 30,
   "metadata": {
    "collapsed": true
   },
   "outputs": [],
   "source": [
    "print_map=custom_call()\n",
    "training_generator = DataGenerator(hard_train_pair_names, batch_size=16, shuffle=True)"
   ]
  },
  {
   "cell_type": "code",
   "execution_count": 31,
   "metadata": {
    "collapsed": true
   },
   "outputs": [
    {
     "name": "stdout",
     "output_type": "stream",
     "text": [
      "Epoch 1/100\n",
      "test map: 0.58795935454\n",
      "    2/21180 [..............................] - ETA: 21:28:59 - loss: 0.4993 - acc: 0.9688"
     ]
    },
    {
     "name": "stderr",
     "output_type": "stream",
     "text": [
      "/usr/local/lib/python3.5/dist-packages/keras/callbacks.py:116: UserWarning: Method on_batch_end() is slow compared to the batch update (5.772107). Check your callbacks.\n",
      "  % delta_t_median)\n",
      "/usr/local/lib/python3.5/dist-packages/keras/callbacks.py:116: UserWarning: Method on_batch_end() is slow compared to the batch update (2.886608). Check your callbacks.\n",
      "  % delta_t_median)\n"
     ]
    },
    {
     "name": "stdout",
     "output_type": "stream",
     "text": [
      "  500/21180 [..............................] - ETA: 38:22 - loss: 0.2408 - acc: 0.9496test map: 0.584615542693\n",
      " 1000/21180 [>.............................] - ETA: 37:20 - loss: 0.2133 - acc: 0.9531test map: 0.582530577556\n",
      " 1500/21180 [=>............................] - ETA: 36:45 - loss: 0.1881 - acc: 0.9570test map: 0.59038552468\n",
      " 2000/21180 [=>............................] - ETA: 36:00 - loss: 0.1728 - acc: 0.9591test map: 0.593689022204\n",
      " 2500/21180 [==>...........................] - ETA: 35:11 - loss: 0.1603 - acc: 0.9610test map: 0.595389431221\n",
      " 3000/21180 [===>..........................] - ETA: 34:20 - loss: 0.1462 - acc: 0.9636test map: 0.597073807013\n",
      " 3500/21180 [===>..........................] - ETA: 33:26 - loss: 0.1366 - acc: 0.9651test map: 0.593776469715\n",
      " 4000/21180 [====>.........................] - ETA: 32:32 - loss: 0.1281 - acc: 0.9664test map: 0.595716083993\n",
      " 4500/21180 [=====>........................] - ETA: 31:35 - loss: 0.1222 - acc: 0.9674test map: 0.603822528315\n",
      " 5000/21180 [======>.......................] - ETA: 30:38 - loss: 0.1161 - acc: 0.9685test map: 0.600267601431\n",
      " 5500/21180 [======>.......................] - ETA: 29:40 - loss: 0.1118 - acc: 0.9694test map: 0.602264156979\n",
      " 6000/21180 [=======>......................] - ETA: 28:42 - loss: 0.1079 - acc: 0.9704test map: 0.600351486585\n",
      " 6500/21180 [========>.....................] - ETA: 27:45 - loss: 0.1046 - acc: 0.9712test map: 0.601853382329\n",
      " 7000/21180 [========>.....................] - ETA: 26:48 - loss: 0.1015 - acc: 0.9718test map: 0.60548845283\n",
      " 7500/21180 [=========>....................] - ETA: 25:50 - loss: 0.0988 - acc: 0.9723test map: 0.603459996332\n",
      " 8000/21180 [==========>...................] - ETA: 24:53 - loss: 0.0958 - acc: 0.9731test map: 0.60410116402\n",
      " 8500/21180 [===========>..................] - ETA: 23:56 - loss: 0.0933 - acc: 0.9737test map: 0.602752333236\n",
      " 9000/21180 [===========>..................] - ETA: 22:59 - loss: 0.0911 - acc: 0.9742test map: 0.602810633272\n",
      " 9500/21180 [============>.................] - ETA: 22:02 - loss: 0.0893 - acc: 0.9747test map: 0.601988533128\n",
      "10000/21180 [=============>................] - ETA: 21:05 - loss: 0.0874 - acc: 0.9752test map: 0.603037054289\n",
      "10500/21180 [=============>................] - ETA: 20:08 - loss: 0.0857 - acc: 0.9756test map: 0.60467179163\n",
      "11000/21180 [==============>...............] - ETA: 19:11 - loss: 0.0839 - acc: 0.9761test map: 0.60374432356\n",
      "11500/21180 [===============>..............] - ETA: 18:15 - loss: 0.0826 - acc: 0.9763test map: 0.605408284773\n",
      "12000/21180 [===============>..............] - ETA: 17:18 - loss: 0.0814 - acc: 0.9766test map: 0.599500182363\n",
      "12500/21180 [================>.............] - ETA: 16:21 - loss: 0.0803 - acc: 0.9769test map: 0.605100265535\n",
      "13000/21180 [=================>............] - ETA: 15:25 - loss: 0.0793 - acc: 0.9772test map: 0.606085941958\n",
      "13500/21180 [==================>...........] - ETA: 14:28 - loss: 0.0780 - acc: 0.9775test map: 0.604423516254\n",
      "14000/21180 [==================>...........] - ETA: 13:31 - loss: 0.0769 - acc: 0.9778test map: 0.606496928578\n",
      "14500/21180 [===================>..........] - ETA: 12:35 - loss: 0.0756 - acc: 0.9781test map: 0.611173403718\n",
      "15000/21180 [====================>.........] - ETA: 11:38 - loss: 0.0745 - acc: 0.9784test map: 0.609857899434\n",
      "15500/21180 [====================>.........] - ETA: 10:42 - loss: 0.0735 - acc: 0.9787test map: 0.610971698046\n",
      "16000/21180 [=====================>........] - ETA: 9:45 - loss: 0.0728 - acc: 0.9789test map: 0.611624880837\n",
      "16500/21180 [======================>.......] - ETA: 8:48 - loss: 0.0718 - acc: 0.9792test map: 0.61122185824\n",
      "17000/21180 [=======================>......] - ETA: 7:52 - loss: 0.0708 - acc: 0.9794test map: 0.609466666075\n",
      "17500/21180 [=======================>......] - ETA: 6:55 - loss: 0.0701 - acc: 0.9796test map: 0.609271228961\n",
      "18000/21180 [========================>.....] - ETA: 5:59 - loss: 0.0694 - acc: 0.9798test map: 0.609709952625\n",
      "18500/21180 [=========================>....] - ETA: 5:02 - loss: 0.0689 - acc: 0.9800test map: 0.609158135185\n",
      "19000/21180 [=========================>....] - ETA: 4:06 - loss: 0.0681 - acc: 0.9802test map: 0.611522105863\n",
      "19500/21180 [==========================>...] - ETA: 3:09 - loss: 0.0675 - acc: 0.9804test map: 0.610064061001\n",
      "20000/21180 [===========================>..] - ETA: 2:13 - loss: 0.0669 - acc: 0.9805test map: 0.613705869657\n",
      "20500/21180 [============================>.] - ETA: 1:16 - loss: 0.0662 - acc: 0.9807test map: 0.612304573959\n",
      "21000/21180 [============================>.] - ETA: 20s - loss: 0.0658 - acc: 0.9809test map: 0.610973726324\n",
      "21179/21180 [============================>.] - ETA: 0s - loss: 0.0655 - acc: 0.9810 map: 0.611543902101\n",
      "best map= 0.611543902101\n",
      "patient= 0\n",
      "21180/21180 [==============================] - 2402s 113ms/step - loss: 0.0655 - acc: 0.9810\n",
      "Epoch 2/100\n",
      "test map: 0.611621518758\n",
      "    3/21180 [..............................] - ETA: 11:22:05 - loss: 0.0102 - acc: 1.0000"
     ]
    },
    {
     "name": "stderr",
     "output_type": "stream",
     "text": [
      "/usr/local/lib/python3.5/dist-packages/keras/callbacks.py:116: UserWarning: Method on_batch_end() is slow compared to the batch update (5.505334). Check your callbacks.\n",
      "  % delta_t_median)\n",
      "/usr/local/lib/python3.5/dist-packages/keras/callbacks.py:116: UserWarning: Method on_batch_end() is slow compared to the batch update (2.753092). Check your callbacks.\n",
      "  % delta_t_median)\n"
     ]
    },
    {
     "name": "stdout",
     "output_type": "stream",
     "text": [
      "  500/21180 [..............................] - ETA: 38:38 - loss: 0.0255 - acc: 0.9916test map: 0.612813371956\n",
      " 1000/21180 [>.............................] - ETA: 37:46 - loss: 0.0250 - acc: 0.9924test map: 0.611081270494\n",
      " 1500/21180 [=>............................] - ETA: 36:51 - loss: 0.0258 - acc: 0.9925test map: 0.614588624608\n",
      " 2000/21180 [=>............................] - ETA: 35:59 - loss: 0.0268 - acc: 0.9921test map: 0.61252947626\n",
      " 2500/21180 [==>...........................] - ETA: 35:02 - loss: 0.0288 - acc: 0.9917test map: 0.609509859834\n",
      " 3000/21180 [===>..........................] - ETA: 34:07 - loss: 0.0283 - acc: 0.9918test map: 0.611854768643\n",
      " 3500/21180 [===>..........................] - ETA: 33:11 - loss: 0.0283 - acc: 0.9919test map: 0.609624800656\n",
      " 4000/21180 [====>.........................] - ETA: 32:15 - loss: 0.0275 - acc: 0.9921test map: 0.607944338295\n",
      " 4500/21180 [=====>........................] - ETA: 31:19 - loss: 0.0275 - acc: 0.9922test map: 0.611594710421\n",
      " 5000/21180 [======>.......................] - ETA: 30:22 - loss: 0.0276 - acc: 0.9922test map: 0.613026746399\n",
      " 5500/21180 [======>.......................] - ETA: 29:26 - loss: 0.0267 - acc: 0.9925test map: 0.611371309125\n",
      " 6000/21180 [=======>......................] - ETA: 28:29 - loss: 0.0269 - acc: 0.9923test map: 0.61095222409\n",
      " 6500/21180 [========>.....................] - ETA: 27:33 - loss: 0.0267 - acc: 0.9925test map: 0.612282548668\n",
      " 7000/21180 [========>.....................] - ETA: 26:36 - loss: 0.0265 - acc: 0.9925test map: 0.61344046233\n",
      " 7500/21180 [=========>....................] - ETA: 25:40 - loss: 0.0267 - acc: 0.9925test map: 0.612486130882\n",
      " 8000/21180 [==========>...................] - ETA: 24:43 - loss: 0.0271 - acc: 0.9924test map: 0.613374549908\n",
      " 8500/21180 [===========>..................] - ETA: 23:47 - loss: 0.0272 - acc: 0.9923test map: 0.613268170298\n",
      " 9000/21180 [===========>..................] - ETA: 22:51 - loss: 0.0273 - acc: 0.9923test map: 0.614025853835\n",
      " 9500/21180 [============>.................] - ETA: 21:54 - loss: 0.0275 - acc: 0.9923test map: 0.613671085419\n",
      "10000/21180 [=============>................] - ETA: 20:58 - loss: 0.0280 - acc: 0.9921test map: 0.611579242389\n",
      "10500/21180 [=============>................] - ETA: 20:02 - loss: 0.0278 - acc: 0.9922test map: 0.611759440455\n",
      "11000/21180 [==============>...............] - ETA: 19:06 - loss: 0.0277 - acc: 0.9922test map: 0.614518142219\n",
      "11500/21180 [===============>..............] - ETA: 18:09 - loss: 0.0277 - acc: 0.9922test map: 0.616176788341\n",
      "12000/21180 [===============>..............] - ETA: 17:13 - loss: 0.0278 - acc: 0.9921test map: 0.615854249043\n",
      "12500/21180 [================>.............] - ETA: 16:17 - loss: 0.0277 - acc: 0.9921test map: 0.617160059085\n",
      "13000/21180 [=================>............] - ETA: 15:20 - loss: 0.0279 - acc: 0.9921test map: 0.614216672231\n",
      "13500/21180 [==================>...........] - ETA: 14:24 - loss: 0.0279 - acc: 0.9921test map: 0.613566120065\n",
      "14000/21180 [==================>...........] - ETA: 13:28 - loss: 0.0277 - acc: 0.9922test map: 0.611785546459\n",
      "14500/21180 [===================>..........] - ETA: 12:32 - loss: 0.0276 - acc: 0.9922test map: 0.61261932372\n",
      "15000/21180 [====================>.........] - ETA: 11:35 - loss: 0.0276 - acc: 0.9922test map: 0.612256830678\n",
      "15500/21180 [====================>.........] - ETA: 10:39 - loss: 0.0277 - acc: 0.9922test map: 0.614765277259\n",
      "16000/21180 [=====================>........] - ETA: 9:43 - loss: 0.0277 - acc: 0.9922test map: 0.614076224717\n",
      "16500/21180 [======================>.......] - ETA: 8:46 - loss: 0.0276 - acc: 0.9922test map: 0.614827356606\n",
      "17000/21180 [=======================>......] - ETA: 7:50 - loss: 0.0276 - acc: 0.9922test map: 0.613240411835\n",
      "17500/21180 [=======================>......] - ETA: 6:54 - loss: 0.0276 - acc: 0.9922test map: 0.614578288436\n",
      "18000/21180 [========================>.....] - ETA: 5:58 - loss: 0.0277 - acc: 0.9922test map: 0.60711452409\n",
      "18500/21180 [=========================>....] - ETA: 5:01 - loss: 0.0277 - acc: 0.9922test map: 0.61543415559\n",
      "19000/21180 [=========================>....] - ETA: 4:05 - loss: 0.0278 - acc: 0.9922test map: 0.615271892696\n",
      "19500/21180 [==========================>...] - ETA: 3:09 - loss: 0.0278 - acc: 0.9922test map: 0.613524112838\n",
      "20000/21180 [===========================>..] - ETA: 2:12 - loss: 0.0278 - acc: 0.9922test map: 0.613845825473\n",
      "20500/21180 [============================>.] - ETA: 1:16 - loss: 0.0277 - acc: 0.9923test map: 0.616145617446\n",
      "21000/21180 [============================>.] - ETA: 20s - loss: 0.0276 - acc: 0.9923test map: 0.61218978805\n",
      "21179/21180 [============================>.] - ETA: 0s - loss: 0.0276 - acc: 0.9923 map: 0.613817590692\n",
      "best map= 0.613817590692\n",
      "patient= 0\n",
      "21180/21180 [==============================] - 2395s 113ms/step - loss: 0.0276 - acc: 0.9923\n",
      "Epoch 3/100\n",
      "test map: 0.613803180926\n",
      "    2/21180 [..............................] - ETA: 17:24:16 - loss: 0.0150 - acc: 1.0000"
     ]
    },
    {
     "name": "stderr",
     "output_type": "stream",
     "text": [
      "/usr/local/lib/python3.5/dist-packages/keras/callbacks.py:116: UserWarning: Method on_batch_end() is slow compared to the batch update (5.718138). Check your callbacks.\n",
      "  % delta_t_median)\n",
      "/usr/local/lib/python3.5/dist-packages/keras/callbacks.py:116: UserWarning: Method on_batch_end() is slow compared to the batch update (2.859839). Check your callbacks.\n",
      "  % delta_t_median)\n"
     ]
    },
    {
     "name": "stdout",
     "output_type": "stream",
     "text": [
      "  500/21180 [..............................] - ETA: 38:44 - loss: 0.0148 - acc: 0.9956test map: 0.614215159172\n",
      " 1000/21180 [>.............................] - ETA: 37:50 - loss: 0.0166 - acc: 0.9958test map: 0.613148538346\n",
      " 1500/21180 [=>............................] - ETA: 36:52 - loss: 0.0175 - acc: 0.9956test map: 0.615506186271\n",
      " 2000/21180 [=>............................] - ETA: 35:57 - loss: 0.0173 - acc: 0.9953test map: 0.616328033637\n",
      " 2500/21180 [==>...........................] - ETA: 35:01 - loss: 0.0164 - acc: 0.9956test map: 0.61507197363\n",
      " 3000/21180 [===>..........................] - ETA: 34:05 - loss: 0.0168 - acc: 0.9956test map: 0.616190808578\n",
      " 3500/21180 [===>..........................] - ETA: 33:08 - loss: 0.0171 - acc: 0.9957test map: 0.617145565292\n",
      " 4000/21180 [====>.........................] - ETA: 32:12 - loss: 0.0174 - acc: 0.9955test map: 0.61662165799\n",
      " 4500/21180 [=====>........................] - ETA: 31:16 - loss: 0.0173 - acc: 0.9955test map: 0.616428379587\n",
      " 5000/21180 [======>.......................] - ETA: 30:20 - loss: 0.0171 - acc: 0.9955test map: 0.617962443691\n",
      " 5500/21180 [======>.......................] - ETA: 29:23 - loss: 0.0172 - acc: 0.9955test map: 0.617452353334\n",
      " 6000/21180 [=======>......................] - ETA: 28:27 - loss: 0.0176 - acc: 0.9954test map: 0.615913843343\n",
      " 6500/21180 [========>.....................] - ETA: 27:31 - loss: 0.0179 - acc: 0.9953test map: 0.616121813083\n",
      " 7000/21180 [========>.....................] - ETA: 26:35 - loss: 0.0180 - acc: 0.9953test map: 0.615383045441\n",
      " 7500/21180 [=========>....................] - ETA: 25:38 - loss: 0.0180 - acc: 0.9953test map: 0.615132336076\n",
      " 8000/21180 [==========>...................] - ETA: 24:42 - loss: 0.0181 - acc: 0.9952test map: 0.609521710221\n",
      " 8500/21180 [===========>..................] - ETA: 23:46 - loss: 0.0183 - acc: 0.9952test map: 0.607419390706\n",
      " 9000/21180 [===========>..................] - ETA: 22:50 - loss: 0.0186 - acc: 0.9951test map: 0.613663272447\n",
      " 9500/21180 [============>.................] - ETA: 21:54 - loss: 0.0187 - acc: 0.9951test map: 0.615542342064\n",
      "10000/21180 [=============>................] - ETA: 20:57 - loss: 0.0190 - acc: 0.9950test map: 0.615387264211\n",
      "10500/21180 [=============>................] - ETA: 20:01 - loss: 0.0193 - acc: 0.9949test map: 0.615071253904\n",
      "11000/21180 [==============>...............] - ETA: 19:05 - loss: 0.0191 - acc: 0.9950test map: 0.615394894564\n",
      "11500/21180 [===============>..............] - ETA: 18:09 - loss: 0.0192 - acc: 0.9949test map: 0.614278397722\n",
      "12000/21180 [===============>..............] - ETA: 17:12 - loss: 0.0191 - acc: 0.9949test map: 0.618121361602\n",
      "12500/21180 [================>.............] - ETA: 16:16 - loss: 0.0193 - acc: 0.9948test map: 0.612950063939\n",
      "13000/21180 [=================>............] - ETA: 15:20 - loss: 0.0193 - acc: 0.9949test map: 0.613682589013\n",
      "13500/21180 [==================>...........] - ETA: 14:24 - loss: 0.0194 - acc: 0.9948test map: 0.613960779655\n",
      "14000/21180 [==================>...........] - ETA: 13:27 - loss: 0.0197 - acc: 0.9947test map: 0.610881445727\n",
      "14500/21180 [===================>..........] - ETA: 12:31 - loss: 0.0197 - acc: 0.9947test map: 0.610380095083\n",
      "15000/21180 [====================>.........] - ETA: 11:35 - loss: 0.0198 - acc: 0.9947test map: 0.612696544795\n",
      "15500/21180 [====================>.........] - ETA: 10:39 - loss: 0.0199 - acc: 0.9947test map: 0.612305647367\n",
      "16000/21180 [=====================>........] - ETA: 9:42 - loss: 0.0199 - acc: 0.9947test map: 0.613776183853\n",
      "16500/21180 [======================>.......] - ETA: 8:46 - loss: 0.0200 - acc: 0.9947test map: 0.614650166687\n",
      "17000/21180 [=======================>......] - ETA: 7:50 - loss: 0.0202 - acc: 0.9946test map: 0.613036195913\n",
      "17500/21180 [=======================>......] - ETA: 6:54 - loss: 0.0202 - acc: 0.9946test map: 0.614419458541\n",
      "18000/21180 [========================>.....] - ETA: 5:57 - loss: 0.0201 - acc: 0.9946test map: 0.615961781064\n",
      "18500/21180 [=========================>....] - ETA: 5:01 - loss: 0.0202 - acc: 0.9946test map: 0.61446587131\n",
      "19000/21180 [=========================>....] - ETA: 4:05 - loss: 0.0202 - acc: 0.9946test map: 0.615083493242\n",
      "19500/21180 [==========================>...] - ETA: 3:09 - loss: 0.0201 - acc: 0.9947test map: 0.615395353971\n",
      "20000/21180 [===========================>..] - ETA: 2:12 - loss: 0.0202 - acc: 0.9946test map: 0.61466328754\n",
      "20500/21180 [============================>.] - ETA: 1:16 - loss: 0.0201 - acc: 0.9947test map: 0.61293136357\n",
      "21000/21180 [============================>.] - ETA: 20s - loss: 0.0202 - acc: 0.9947test map: 0.611786201474\n",
      "21179/21180 [============================>.] - ETA: 0s - loss: 0.0202 - acc: 0.9947 map: 0.616074732861\n",
      "best map= 0.616074732861\n",
      "patient= 0\n",
      "21180/21180 [==============================] - 2392s 113ms/step - loss: 0.0202 - acc: 0.9947\n",
      "Epoch 4/100\n",
      "test map: 0.616046742564\n",
      "    3/21180 [..............................] - ETA: 11:58:56 - loss: 0.0140 - acc: 1.0000"
     ]
    },
    {
     "name": "stderr",
     "output_type": "stream",
     "text": [
      "/usr/local/lib/python3.5/dist-packages/keras/callbacks.py:116: UserWarning: Method on_batch_end() is slow compared to the batch update (5.813731). Check your callbacks.\n",
      "  % delta_t_median)\n",
      "/usr/local/lib/python3.5/dist-packages/keras/callbacks.py:116: UserWarning: Method on_batch_end() is slow compared to the batch update (2.907497). Check your callbacks.\n",
      "  % delta_t_median)\n"
     ]
    },
    {
     "name": "stdout",
     "output_type": "stream",
     "text": [
      "  500/21180 [..............................] - ETA: 38:45 - loss: 0.0179 - acc: 0.9954test map: 0.614374077859\n",
      " 1000/21180 [>.............................] - ETA: 37:51 - loss: 0.0200 - acc: 0.9948test map: 0.616957132017\n",
      " 1500/21180 [=>............................] - ETA: 36:55 - loss: 0.0180 - acc: 0.9951test map: 0.614883730017\n",
      " 2000/21180 [=>............................] - ETA: 35:59 - loss: 0.0174 - acc: 0.9956test map: 0.616053315034\n",
      " 2500/21180 [==>...........................] - ETA: 35:02 - loss: 0.0170 - acc: 0.9958test map: 0.616641945233\n",
      " 3000/21180 [===>..........................] - ETA: 34:05 - loss: 0.0167 - acc: 0.9958test map: 0.616428843148\n",
      " 3500/21180 [===>..........................] - ETA: 33:09 - loss: 0.0170 - acc: 0.9958test map: 0.616817781452\n",
      " 4000/21180 [====>.........................] - ETA: 32:14 - loss: 0.0163 - acc: 0.9961test map: 0.617449123947\n",
      " 4500/21180 [=====>........................] - ETA: 31:17 - loss: 0.0163 - acc: 0.9961test map: 0.616695855801\n",
      " 5000/21180 [======>.......................] - ETA: 30:21 - loss: 0.0159 - acc: 0.9962test map: 0.6166581692\n",
      " 5500/21180 [======>.......................] - ETA: 29:25 - loss: 0.0155 - acc: 0.9963test map: 0.61650125945\n",
      " 6000/21180 [=======>......................] - ETA: 28:28 - loss: 0.0155 - acc: 0.9963test map: 0.61678785721\n",
      " 6500/21180 [========>.....................] - ETA: 27:32 - loss: 0.0155 - acc: 0.9962test map: 0.613933617254\n",
      " 7000/21180 [========>.....................] - ETA: 26:36 - loss: 0.0156 - acc: 0.9962test map: 0.617444010666\n",
      " 7500/21180 [=========>....................] - ETA: 25:40 - loss: 0.0156 - acc: 0.9962test map: 0.616670081261\n",
      " 8000/21180 [==========>...................] - ETA: 24:44 - loss: 0.0153 - acc: 0.9962test map: 0.61495023714\n",
      " 8500/21180 [===========>..................] - ETA: 23:48 - loss: 0.0152 - acc: 0.9962test map: 0.616231446162\n",
      " 9000/21180 [===========>..................] - ETA: 22:51 - loss: 0.0154 - acc: 0.9962test map: 0.618412320621\n",
      " 9500/21180 [============>.................] - ETA: 21:55 - loss: 0.0156 - acc: 0.9961test map: 0.617141274938\n",
      "10000/21180 [=============>................] - ETA: 20:59 - loss: 0.0158 - acc: 0.9960test map: 0.616858270865\n",
      "10500/21180 [=============>................] - ETA: 20:02 - loss: 0.0159 - acc: 0.9960test map: 0.617398212989\n",
      "11000/21180 [==============>...............] - ETA: 19:06 - loss: 0.0161 - acc: 0.9959test map: 0.616060276209\n",
      "11500/21180 [===============>..............] - ETA: 18:10 - loss: 0.0160 - acc: 0.9960test map: 0.618039950681\n",
      "12000/21180 [===============>..............] - ETA: 17:13 - loss: 0.0161 - acc: 0.9960test map: 0.618800126338\n",
      "12500/21180 [================>.............] - ETA: 16:17 - loss: 0.0160 - acc: 0.9959test map: 0.615944498136\n",
      "13000/21180 [=================>............] - ETA: 15:21 - loss: 0.0160 - acc: 0.9959test map: 0.613234596733\n",
      "13500/21180 [==================>...........] - ETA: 14:24 - loss: 0.0160 - acc: 0.9959test map: 0.614026022291\n",
      "14000/21180 [==================>...........] - ETA: 13:28 - loss: 0.0162 - acc: 0.9959test map: 0.613037995635\n",
      "14500/21180 [===================>..........] - ETA: 12:32 - loss: 0.0164 - acc: 0.9958test map: 0.609881116194\n",
      "15000/21180 [====================>.........] - ETA: 11:35 - loss: 0.0164 - acc: 0.9958test map: 0.615991463728\n",
      "15500/21180 [====================>.........] - ETA: 10:39 - loss: 0.0164 - acc: 0.9958test map: 0.614626738873\n",
      "16000/21180 [=====================>........] - ETA: 9:43 - loss: 0.0164 - acc: 0.9959test map: 0.611926301423\n",
      "16500/21180 [======================>.......] - ETA: 8:46 - loss: 0.0165 - acc: 0.9958test map: 0.611492113068\n",
      "17000/21180 [=======================>......] - ETA: 7:50 - loss: 0.0164 - acc: 0.9959test map: 0.613330071492\n",
      "17500/21180 [=======================>......] - ETA: 6:54 - loss: 0.0165 - acc: 0.9959test map: 0.615377432237\n",
      "18000/21180 [========================>.....] - ETA: 5:58 - loss: 0.0166 - acc: 0.9958test map: 0.616018159133\n",
      "18500/21180 [=========================>....] - ETA: 5:01 - loss: 0.0167 - acc: 0.9958test map: 0.616395082238\n",
      "19000/21180 [=========================>....] - ETA: 4:05 - loss: 0.0168 - acc: 0.9958test map: 0.618775426486\n",
      "19500/21180 [==========================>...] - ETA: 3:09 - loss: 0.0169 - acc: 0.9957test map: 0.614818761443\n",
      "20000/21180 [===========================>..] - ETA: 2:12 - loss: 0.0168 - acc: 0.9958test map: 0.616821495649\n",
      "20500/21180 [============================>.] - ETA: 1:16 - loss: 0.0169 - acc: 0.9957test map: 0.61609139937\n",
      "21000/21180 [============================>.] - ETA: 20s - loss: 0.0169 - acc: 0.9957test map: 0.616762998069\n",
      "21179/21180 [============================>.] - ETA: 0s - loss: 0.0169 - acc: 0.9957 map: 0.616953727261\n",
      "best map= 0.616953727261\n",
      "patient= 0\n",
      "21180/21180 [==============================] - 2395s 113ms/step - loss: 0.0169 - acc: 0.9957\n",
      "Epoch 5/100\n",
      "test map: 0.617014558995\n",
      "    2/21180 [..............................] - ETA: 16:48:32 - loss: 3.5265e-04 - acc: 1.0000"
     ]
    },
    {
     "name": "stderr",
     "output_type": "stream",
     "text": [
      "/usr/local/lib/python3.5/dist-packages/keras/callbacks.py:116: UserWarning: Method on_batch_end() is slow compared to the batch update (5.517450). Check your callbacks.\n",
      "  % delta_t_median)\n",
      "/usr/local/lib/python3.5/dist-packages/keras/callbacks.py:116: UserWarning: Method on_batch_end() is slow compared to the batch update (2.759306). Check your callbacks.\n",
      "  % delta_t_median)\n"
     ]
    },
    {
     "name": "stdout",
     "output_type": "stream",
     "text": [
      "  500/21180 [..............................] - ETA: 38:37 - loss: 0.0147 - acc: 0.9960test map: 0.617398157904\n",
      " 1000/21180 [>.............................] - ETA: 37:50 - loss: 0.0145 - acc: 0.9962test map: 0.616484824192\n",
      " 1500/21180 [=>............................] - ETA: 36:57 - loss: 0.0142 - acc: 0.9963test map: 0.616752220922\n",
      " 2000/21180 [=>............................] - ETA: 36:01 - loss: 0.0138 - acc: 0.9965test map: 0.617574892916\n",
      " 2500/21180 [==>...........................] - ETA: 35:05 - loss: 0.0130 - acc: 0.9967test map: 0.615821549511\n",
      " 3000/21180 [===>..........................] - ETA: 34:08 - loss: 0.0131 - acc: 0.9967test map: 0.615932276076\n",
      " 3500/21180 [===>..........................] - ETA: 33:12 - loss: 0.0126 - acc: 0.9969test map: 0.61631647102\n",
      " 4000/21180 [====>.........................] - ETA: 32:16 - loss: 0.0122 - acc: 0.9969test map: 0.617361314529\n",
      " 4500/21180 [=====>........................] - ETA: 31:20 - loss: 0.0124 - acc: 0.9969test map: 0.617413189031\n",
      " 5000/21180 [======>.......................] - ETA: 30:23 - loss: 0.0128 - acc: 0.9968test map: 0.617885907848\n",
      " 5500/21180 [======>.......................] - ETA: 29:27 - loss: 0.0131 - acc: 0.9968test map: 0.616910940836\n",
      " 6000/21180 [=======>......................] - ETA: 28:31 - loss: 0.0136 - acc: 0.9967test map: 0.615268817434\n",
      " 6500/21180 [========>.....................] - ETA: 27:35 - loss: 0.0136 - acc: 0.9967test map: 0.615809387402\n",
      " 7000/21180 [========>.....................] - ETA: 26:38 - loss: 0.0141 - acc: 0.9966test map: 0.616434136807\n",
      " 7500/21180 [=========>....................] - ETA: 25:42 - loss: 0.0139 - acc: 0.9966test map: 0.616459438199\n",
      " 8000/21180 [==========>...................] - ETA: 24:46 - loss: 0.0138 - acc: 0.9966test map: 0.61668890849\n",
      " 8500/21180 [===========>..................] - ETA: 23:49 - loss: 0.0141 - acc: 0.9965test map: 0.616443085059\n",
      " 9000/21180 [===========>..................] - ETA: 22:53 - loss: 0.0141 - acc: 0.9965test map: 0.616915379638\n",
      " 9500/21180 [============>.................] - ETA: 21:57 - loss: 0.0140 - acc: 0.9965test map: 0.614504492133\n",
      "10000/21180 [=============>................] - ETA: 21:01 - loss: 0.0142 - acc: 0.9965test map: 0.617705990866\n",
      "10500/21180 [=============>................] - ETA: 20:04 - loss: 0.0141 - acc: 0.9965test map: 0.614522134451\n",
      "11000/21180 [==============>...............] - ETA: 19:08 - loss: 0.0143 - acc: 0.9965test map: 0.61869154035\n",
      "11500/21180 [===============>..............] - ETA: 18:11 - loss: 0.0144 - acc: 0.9964test map: 0.617114045651\n",
      "12000/21180 [===============>..............] - ETA: 17:15 - loss: 0.0142 - acc: 0.9965test map: 0.616361993046\n",
      "12500/21180 [================>.............] - ETA: 16:19 - loss: 0.0142 - acc: 0.9965test map: 0.615675736728\n",
      "13000/21180 [=================>............] - ETA: 15:22 - loss: 0.0142 - acc: 0.9965test map: 0.61462325222\n",
      "13500/21180 [==================>...........] - ETA: 14:26 - loss: 0.0145 - acc: 0.9964test map: 0.617837006902\n",
      "14000/21180 [==================>...........] - ETA: 13:29 - loss: 0.0145 - acc: 0.9965test map: 0.618373858661\n",
      "14500/21180 [===================>..........] - ETA: 12:33 - loss: 0.0144 - acc: 0.9965test map: 0.619338347677\n",
      "15000/21180 [====================>.........] - ETA: 11:37 - loss: 0.0145 - acc: 0.9965test map: 0.618210505469\n",
      "15500/21180 [====================>.........] - ETA: 10:40 - loss: 0.0144 - acc: 0.9965test map: 0.618147939001\n",
      "16000/21180 [=====================>........] - ETA: 9:44 - loss: 0.0144 - acc: 0.9965test map: 0.617392836805\n",
      "16500/21180 [======================>.......] - ETA: 8:47 - loss: 0.0144 - acc: 0.9965test map: 0.617589845636\n",
      "17000/21180 [=======================>......] - ETA: 7:51 - loss: 0.0144 - acc: 0.9964test map: 0.614910149031\n",
      "17500/21180 [=======================>......] - ETA: 6:55 - loss: 0.0145 - acc: 0.9964test map: 0.615599808826\n",
      "18000/21180 [========================>.....] - ETA: 5:58 - loss: 0.0145 - acc: 0.9965test map: 0.615044645303\n",
      "18500/21180 [=========================>....] - ETA: 5:02 - loss: 0.0145 - acc: 0.9964test map: 0.614703675402\n",
      "19000/21180 [=========================>....] - ETA: 4:05 - loss: 0.0145 - acc: 0.9964test map: 0.616449041757\n",
      "19500/21180 [==========================>...] - ETA: 3:09 - loss: 0.0146 - acc: 0.9964test map: 0.615008159975\n",
      "20000/21180 [===========================>..] - ETA: 2:13 - loss: 0.0146 - acc: 0.9964test map: 0.617044062481\n",
      "20500/21180 [============================>.] - ETA: 1:16 - loss: 0.0147 - acc: 0.9964test map: 0.619525000978\n",
      "21000/21180 [============================>.] - ETA: 20s - loss: 0.0147 - acc: 0.9964test map: 0.618801393922\n",
      "21179/21180 [============================>.] - ETA: 0s - loss: 0.0147 - acc: 0.9963 map: 0.618815292816\n",
      "best map= 0.618815292816\n",
      "patient= 0\n",
      "21180/21180 [==============================] - 2398s 113ms/step - loss: 0.0147 - acc: 0.9963\n",
      "Epoch 6/100\n",
      "test map: 0.618832449676\n",
      "    3/21180 [..............................] - ETA: 11:52:58 - loss: 0.0669 - acc: 0.9792"
     ]
    },
    {
     "name": "stderr",
     "output_type": "stream",
     "text": [
      "/usr/local/lib/python3.5/dist-packages/keras/callbacks.py:116: UserWarning: Method on_batch_end() is slow compared to the batch update (5.762065). Check your callbacks.\n",
      "  % delta_t_median)\n",
      "/usr/local/lib/python3.5/dist-packages/keras/callbacks.py:116: UserWarning: Method on_batch_end() is slow compared to the batch update (2.881640). Check your callbacks.\n",
      "  % delta_t_median)\n"
     ]
    },
    {
     "name": "stdout",
     "output_type": "stream",
     "text": [
      "  500/21180 [..............................] - ETA: 38:51 - loss: 0.0133 - acc: 0.9969test map: 0.618434488833\n",
      " 1000/21180 [>.............................] - ETA: 37:54 - loss: 0.0120 - acc: 0.9971test map: 0.61796698217\n",
      " 1500/21180 [=>............................] - ETA: 36:57 - loss: 0.0115 - acc: 0.9971test map: 0.619095874248\n",
      " 2000/21180 [=>............................] - ETA: 36:03 - loss: 0.0113 - acc: 0.9971test map: 0.620507218765\n",
      " 2500/21180 [==>...........................] - ETA: 35:07 - loss: 0.0108 - acc: 0.9972test map: 0.618354366171\n",
      " 3000/21180 [===>..........................] - ETA: 34:11 - loss: 0.0113 - acc: 0.9972test map: 0.61965247993\n",
      " 3500/21180 [===>..........................] - ETA: 33:14 - loss: 0.0108 - acc: 0.9973test map: 0.620816509401\n",
      " 4000/21180 [====>.........................] - ETA: 32:18 - loss: 0.0107 - acc: 0.9973test map: 0.6194268531\n",
      " 4500/21180 [=====>........................] - ETA: 31:21 - loss: 0.0109 - acc: 0.9972test map: 0.617033706828\n",
      " 5000/21180 [======>.......................] - ETA: 30:25 - loss: 0.0110 - acc: 0.9973test map: 0.617496754928\n",
      " 5500/21180 [======>.......................] - ETA: 29:29 - loss: 0.0111 - acc: 0.9973test map: 0.6203534372\n",
      " 6000/21180 [=======>......................] - ETA: 28:32 - loss: 0.0112 - acc: 0.9973test map: 0.619970359164\n",
      " 6500/21180 [========>.....................] - ETA: 27:36 - loss: 0.0108 - acc: 0.9974test map: 0.619479886831\n",
      " 7000/21180 [========>.....................] - ETA: 26:40 - loss: 0.0111 - acc: 0.9973test map: 0.619423000318\n",
      " 7500/21180 [=========>....................] - ETA: 25:44 - loss: 0.0110 - acc: 0.9974test map: 0.62010021037\n",
      " 8000/21180 [==========>...................] - ETA: 24:47 - loss: 0.0109 - acc: 0.9973test map: 0.620315095\n",
      " 8500/21180 [===========>..................] - ETA: 23:50 - loss: 0.0108 - acc: 0.9974test map: 0.616888496724\n",
      " 9000/21180 [===========>..................] - ETA: 22:54 - loss: 0.0110 - acc: 0.9973test map: 0.617305841843\n",
      " 9500/21180 [============>.................] - ETA: 21:58 - loss: 0.0111 - acc: 0.9973test map: 0.617749335584\n",
      "10000/21180 [=============>................] - ETA: 21:01 - loss: 0.0114 - acc: 0.9972test map: 0.615978399556\n",
      "10500/21180 [=============>................] - ETA: 20:05 - loss: 0.0114 - acc: 0.9972test map: 0.619635016104\n",
      "11000/21180 [==============>...............] - ETA: 19:08 - loss: 0.0116 - acc: 0.9972test map: 0.618646359836\n",
      "11500/21180 [===============>..............] - ETA: 18:12 - loss: 0.0118 - acc: 0.9972test map: 0.617809251102\n",
      "12000/21180 [===============>..............] - ETA: 17:15 - loss: 0.0118 - acc: 0.9972test map: 0.618107648992\n",
      "12500/21180 [================>.............] - ETA: 16:19 - loss: 0.0120 - acc: 0.9971test map: 0.618575721072\n",
      "13000/21180 [=================>............] - ETA: 15:22 - loss: 0.0121 - acc: 0.9971test map: 0.619230426019\n",
      "13500/21180 [==================>...........] - ETA: 14:26 - loss: 0.0122 - acc: 0.9971test map: 0.618587188311\n",
      "14000/21180 [==================>...........] - ETA: 13:30 - loss: 0.0124 - acc: 0.9970test map: 0.61942105317\n",
      "14500/21180 [===================>..........] - ETA: 12:33 - loss: 0.0124 - acc: 0.9970test map: 0.620803786554\n",
      "15000/21180 [====================>.........] - ETA: 11:37 - loss: 0.0126 - acc: 0.9970test map: 0.616057432649\n",
      "15500/21180 [====================>.........] - ETA: 10:40 - loss: 0.0127 - acc: 0.9970test map: 0.616820840507\n",
      "16000/21180 [=====================>........] - ETA: 9:44 - loss: 0.0130 - acc: 0.9969test map: 0.616965530711\n",
      "16500/21180 [======================>.......] - ETA: 8:48 - loss: 0.0132 - acc: 0.9968test map: 0.617885702965\n",
      "17000/21180 [=======================>......] - ETA: 7:51 - loss: 0.0134 - acc: 0.9968test map: 0.614939362545\n",
      "17500/21180 [=======================>......] - ETA: 6:55 - loss: 0.0134 - acc: 0.9968test map: 0.615750841074\n",
      "18000/21180 [========================>.....] - ETA: 5:58 - loss: 0.0134 - acc: 0.9968test map: 0.618556111961\n",
      "18500/21180 [=========================>....] - ETA: 5:02 - loss: 0.0135 - acc: 0.9967test map: 0.619187744671\n",
      "19000/21180 [=========================>....] - ETA: 4:06 - loss: 0.0136 - acc: 0.9967test map: 0.617178501441\n",
      "19500/21180 [==========================>...] - ETA: 3:09 - loss: 0.0136 - acc: 0.9967test map: 0.617494690978\n",
      "20000/21180 [===========================>..] - ETA: 2:13 - loss: 0.0136 - acc: 0.9967test map: 0.616758261927\n",
      "20500/21180 [============================>.] - ETA: 1:16 - loss: 0.0136 - acc: 0.9967test map: 0.615074189501\n",
      "21000/21180 [============================>.] - ETA: 20s - loss: 0.0136 - acc: 0.9967test map: 0.616687617723\n",
      "21179/21180 [============================>.] - ETA: 0s - loss: 0.0136 - acc: 0.9967 map: 0.61557608387\n",
      "current map= 0.61557608387\n",
      "best map= 0.618815292816\n",
      "patient= 1\n",
      "21180/21180 [==============================] - 2400s 113ms/step - loss: 0.0136 - acc: 0.9967\n",
      "Epoch 7/100\n",
      "test map: 0.615529201795\n",
      "    3/21180 [..............................] - ETA: 11:49:45 - loss: 0.0092 - acc: 1.0000"
     ]
    },
    {
     "name": "stderr",
     "output_type": "stream",
     "text": [
      "/usr/local/lib/python3.5/dist-packages/keras/callbacks.py:116: UserWarning: Method on_batch_end() is slow compared to the batch update (5.737006). Check your callbacks.\n",
      "  % delta_t_median)\n",
      "/usr/local/lib/python3.5/dist-packages/keras/callbacks.py:116: UserWarning: Method on_batch_end() is slow compared to the batch update (2.869152). Check your callbacks.\n",
      "  % delta_t_median)\n"
     ]
    },
    {
     "name": "stdout",
     "output_type": "stream",
     "text": [
      "  500/21180 [..............................] - ETA: 38:46 - loss: 0.0133 - acc: 0.9971test map: 0.617621175521\n",
      " 1000/21180 [>.............................] - ETA: 37:52 - loss: 0.0128 - acc: 0.9972test map: 0.616916427687\n",
      " 1500/21180 [=>............................] - ETA: 36:57 - loss: 0.0110 - acc: 0.9977test map: 0.617177733043\n",
      " 2000/21180 [=>............................] - ETA: 36:01 - loss: 0.0119 - acc: 0.9975test map: 0.618952540326\n",
      " 2500/21180 [==>...........................] - ETA: 35:05 - loss: 0.0131 - acc: 0.9972test map: 0.616963676604\n",
      " 3000/21180 [===>..........................] - ETA: 34:09 - loss: 0.0126 - acc: 0.9972test map: 0.61575467134\n",
      " 3500/21180 [===>..........................] - ETA: 33:12 - loss: 0.0125 - acc: 0.9972test map: 0.619523536331\n",
      " 4000/21180 [====>.........................] - ETA: 32:16 - loss: 0.0128 - acc: 0.9970test map: 0.617660874977\n",
      " 4500/21180 [=====>........................] - ETA: 31:19 - loss: 0.0129 - acc: 0.9970test map: 0.618071166474\n",
      " 5000/21180 [======>.......................] - ETA: 30:22 - loss: 0.0129 - acc: 0.9970test map: 0.619275073654\n",
      " 5500/21180 [======>.......................] - ETA: 29:26 - loss: 0.0129 - acc: 0.9970test map: 0.617499708006\n",
      " 6000/21180 [=======>......................] - ETA: 28:30 - loss: 0.0128 - acc: 0.9970test map: 0.615816262695\n",
      " 6500/21180 [========>.....................] - ETA: 27:33 - loss: 0.0126 - acc: 0.9970test map: 0.616448303853\n",
      " 7000/21180 [========>.....................] - ETA: 26:37 - loss: 0.0127 - acc: 0.9970test map: 0.619832531931\n",
      " 7500/21180 [=========>....................] - ETA: 25:41 - loss: 0.0125 - acc: 0.9971test map: 0.620024134454\n",
      " 8000/21180 [==========>...................] - ETA: 24:44 - loss: 0.0123 - acc: 0.9971test map: 0.618909025243\n",
      " 8500/21180 [===========>..................] - ETA: 23:48 - loss: 0.0123 - acc: 0.9971test map: 0.618354398787\n",
      " 9000/21180 [===========>..................] - ETA: 22:52 - loss: 0.0123 - acc: 0.9971test map: 0.616931132166\n",
      " 9500/21180 [============>.................] - ETA: 21:55 - loss: 0.0126 - acc: 0.9970test map: 0.61681749946\n",
      "10000/21180 [=============>................] - ETA: 20:59 - loss: 0.0125 - acc: 0.9971test map: 0.616737394233\n",
      "10500/21180 [=============>................] - ETA: 20:02 - loss: 0.0126 - acc: 0.9971test map: 0.616267521047\n",
      "11000/21180 [==============>...............] - ETA: 19:06 - loss: 0.0129 - acc: 0.9970test map: 0.61108405277\n",
      "11500/21180 [===============>..............] - ETA: 18:10 - loss: 0.0128 - acc: 0.9970test map: 0.616076154255\n",
      "12000/21180 [===============>..............] - ETA: 17:13 - loss: 0.0127 - acc: 0.9970test map: 0.616484321499\n",
      "12500/21180 [================>.............] - ETA: 16:17 - loss: 0.0127 - acc: 0.9970test map: 0.616110308485\n",
      "13000/21180 [=================>............] - ETA: 15:21 - loss: 0.0127 - acc: 0.9970test map: 0.61797500235\n",
      "13500/21180 [==================>...........] - ETA: 14:24 - loss: 0.0127 - acc: 0.9970test map: 0.61060755439\n",
      "14000/21180 [==================>...........] - ETA: 13:28 - loss: 0.0127 - acc: 0.9970test map: 0.613889898206\n",
      "14500/21180 [===================>..........] - ETA: 12:32 - loss: 0.0126 - acc: 0.9970test map: 0.616611670949\n",
      "15000/21180 [====================>.........] - ETA: 11:35 - loss: 0.0126 - acc: 0.9970test map: 0.61555635105\n",
      "15500/21180 [====================>.........] - ETA: 10:39 - loss: 0.0127 - acc: 0.9970test map: 0.617570682757\n",
      "16000/21180 [=====================>........] - ETA: 9:43 - loss: 0.0128 - acc: 0.9969test map: 0.617788037891\n",
      "16500/21180 [======================>.......] - ETA: 8:47 - loss: 0.0128 - acc: 0.9969test map: 0.618811219802\n",
      "17000/21180 [=======================>......] - ETA: 7:50 - loss: 0.0129 - acc: 0.9969test map: 0.61717874326\n",
      "17500/21180 [=======================>......] - ETA: 6:54 - loss: 0.0129 - acc: 0.9969test map: 0.61765157979\n",
      "18000/21180 [========================>.....] - ETA: 5:58 - loss: 0.0130 - acc: 0.9969test map: 0.616813052987\n",
      "18500/21180 [=========================>....] - ETA: 5:01 - loss: 0.0131 - acc: 0.9969test map: 0.618378905144\n",
      "19000/21180 [=========================>....] - ETA: 4:05 - loss: 0.0132 - acc: 0.9969test map: 0.615296970472\n",
      "19500/21180 [==========================>...] - ETA: 3:09 - loss: 0.0132 - acc: 0.9969test map: 0.618975220001\n",
      "20000/21180 [===========================>..] - ETA: 2:12 - loss: 0.0132 - acc: 0.9969test map: 0.61968908261\n",
      "20500/21180 [============================>.] - ETA: 1:16 - loss: 0.0132 - acc: 0.9968test map: 0.619712456161\n",
      "21000/21180 [============================>.] - ETA: 20s - loss: 0.0132 - acc: 0.9968test map: 0.618695247125\n",
      "21179/21180 [============================>.] - ETA: 0s - loss: 0.0132 - acc: 0.9968 map: 0.618638341737\n",
      "current map= 0.618638341737\n",
      "best map= 0.618815292816\n",
      "patient= 2\n",
      "21180/21180 [==============================] - 2394s 113ms/step - loss: 0.0132 - acc: 0.9968\n",
      "Epoch 8/100\n",
      "test map: 0.618745014472\n",
      "    3/21180 [..............................] - ETA: 11:41:27 - loss: 0.0011 - acc: 1.0000    "
     ]
    },
    {
     "name": "stderr",
     "output_type": "stream",
     "text": [
      "/usr/local/lib/python3.5/dist-packages/keras/callbacks.py:116: UserWarning: Method on_batch_end() is slow compared to the batch update (5.673554). Check your callbacks.\n",
      "  % delta_t_median)\n",
      "/usr/local/lib/python3.5/dist-packages/keras/callbacks.py:116: UserWarning: Method on_batch_end() is slow compared to the batch update (2.837283). Check your callbacks.\n",
      "  % delta_t_median)\n"
     ]
    },
    {
     "name": "stdout",
     "output_type": "stream",
     "text": [
      "  500/21180 [..............................] - ETA: 38:40 - loss: 0.0056 - acc: 0.9982test map: 0.617057229105\n",
      " 1000/21180 [>.............................] - ETA: 37:53 - loss: 0.0090 - acc: 0.9980test map: 0.617035018649\n",
      " 1500/21180 [=>............................] - ETA: 36:56 - loss: 0.0087 - acc: 0.9980test map: 0.618861148514\n",
      " 2000/21180 [=>............................] - ETA: 36:00 - loss: 0.0094 - acc: 0.9978test map: 0.618871849621\n",
      " 2500/21180 [==>...........................] - ETA: 35:03 - loss: 0.0093 - acc: 0.9978test map: 0.618970604847\n",
      " 3000/21180 [===>..........................] - ETA: 34:06 - loss: 0.0095 - acc: 0.9978test map: 0.617419294652\n",
      " 3500/21180 [===>..........................] - ETA: 33:09 - loss: 0.0101 - acc: 0.9977test map: 0.617335961584\n",
      " 4000/21180 [====>.........................] - ETA: 32:13 - loss: 0.0100 - acc: 0.9976test map: 0.616356370541\n",
      " 4500/21180 [=====>........................] - ETA: 31:16 - loss: 0.0103 - acc: 0.9976test map: 0.614848233859\n",
      " 5000/21180 [======>.......................] - ETA: 30:20 - loss: 0.0105 - acc: 0.9975test map: 0.616114434494\n",
      " 5500/21180 [======>.......................] - ETA: 29:24 - loss: 0.0103 - acc: 0.9976test map: 0.619091183344\n",
      " 6000/21180 [=======>......................] - ETA: 28:27 - loss: 0.0104 - acc: 0.9976test map: 0.619017563092\n",
      " 6500/21180 [========>.....................] - ETA: 27:31 - loss: 0.0104 - acc: 0.9975test map: 0.619917127262\n",
      " 7000/21180 [========>.....................] - ETA: 26:35 - loss: 0.0106 - acc: 0.9975test map: 0.618520098531\n",
      " 7500/21180 [=========>....................] - ETA: 25:39 - loss: 0.0108 - acc: 0.9975test map: 0.618702067355\n",
      " 8000/21180 [==========>...................] - ETA: 24:42 - loss: 0.0110 - acc: 0.9974test map: 0.619525628729\n",
      " 8500/21180 [===========>..................] - ETA: 23:46 - loss: 0.0110 - acc: 0.9974test map: 0.620082800382\n",
      " 9000/21180 [===========>..................] - ETA: 22:50 - loss: 0.0108 - acc: 0.9974test map: 0.620623489948\n",
      " 9500/21180 [============>.................] - ETA: 21:53 - loss: 0.0109 - acc: 0.9973test map: 0.618792374978\n",
      "10000/21180 [=============>................] - ETA: 20:57 - loss: 0.0110 - acc: 0.9973test map: 0.618978512616\n",
      "10500/21180 [=============>................] - ETA: 20:01 - loss: 0.0111 - acc: 0.9973test map: 0.616856779564\n",
      "11000/21180 [==============>...............] - ETA: 19:05 - loss: 0.0111 - acc: 0.9973test map: 0.61595379301\n",
      "11500/21180 [===============>..............] - ETA: 18:08 - loss: 0.0112 - acc: 0.9973test map: 0.61441207296\n",
      "12000/21180 [===============>..............] - ETA: 17:12 - loss: 0.0113 - acc: 0.9973test map: 0.619969463562\n",
      "12500/21180 [================>.............] - ETA: 16:16 - loss: 0.0113 - acc: 0.9973test map: 0.618183986432\n",
      "13000/21180 [=================>............] - ETA: 15:20 - loss: 0.0114 - acc: 0.9973test map: 0.619644363931\n",
      "13500/21180 [==================>...........] - ETA: 14:23 - loss: 0.0114 - acc: 0.9972test map: 0.618024773299\n",
      "14000/21180 [==================>...........] - ETA: 13:27 - loss: 0.0114 - acc: 0.9972test map: 0.616903127005\n",
      "14500/21180 [===================>..........] - ETA: 12:31 - loss: 0.0116 - acc: 0.9972test map: 0.61880958019\n",
      "15000/21180 [====================>.........] - ETA: 11:35 - loss: 0.0117 - acc: 0.9972test map: 0.617717857197\n",
      "15500/21180 [====================>.........] - ETA: 10:38 - loss: 0.0117 - acc: 0.9972test map: 0.61762045235\n",
      "16000/21180 [=====================>........] - ETA: 9:42 - loss: 0.0118 - acc: 0.9972test map: 0.615928315092\n",
      "16500/21180 [======================>.......] - ETA: 8:46 - loss: 0.0118 - acc: 0.9972test map: 0.617599715934\n",
      "17000/21180 [=======================>......] - ETA: 7:50 - loss: 0.0120 - acc: 0.9971test map: 0.616166336399\n",
      "17500/21180 [=======================>......] - ETA: 6:53 - loss: 0.0120 - acc: 0.9971test map: 0.618536389787\n",
      "18000/21180 [========================>.....] - ETA: 5:57 - loss: 0.0120 - acc: 0.9971test map: 0.617810178664\n",
      "18500/21180 [=========================>....] - ETA: 5:01 - loss: 0.0120 - acc: 0.9971test map: 0.620163762165\n",
      "19000/21180 [=========================>....] - ETA: 4:05 - loss: 0.0121 - acc: 0.9971test map: 0.61686122219\n",
      "19500/21180 [==========================>...] - ETA: 3:08 - loss: 0.0120 - acc: 0.9971test map: 0.616852840488\n",
      "20000/21180 [===========================>..] - ETA: 2:12 - loss: 0.0121 - acc: 0.9971test map: 0.617377094409\n",
      "20500/21180 [============================>.] - ETA: 1:16 - loss: 0.0120 - acc: 0.9971test map: 0.617496786334\n",
      "21000/21180 [============================>.] - ETA: 20s - loss: 0.0120 - acc: 0.9971test map: 0.618041229452\n",
      "21179/21180 [============================>.] - ETA: 0s - loss: 0.0120 - acc: 0.9971 map: 0.617493634171\n",
      "current map= 0.617493634171\n",
      "best map= 0.618815292816\n",
      "patient= 3\n",
      "21180/21180 [==============================] - 2391s 113ms/step - loss: 0.0120 - acc: 0.9971\n",
      "Epoch 9/100\n",
      "test map: 0.61747941658\n",
      "    3/21180 [..............................] - ETA: 11:33:34 - loss: 0.0023 - acc: 1.0000"
     ]
    },
    {
     "name": "stderr",
     "output_type": "stream",
     "text": [
      "/usr/local/lib/python3.5/dist-packages/keras/callbacks.py:116: UserWarning: Method on_batch_end() is slow compared to the batch update (5.598837). Check your callbacks.\n",
      "  % delta_t_median)\n",
      "/usr/local/lib/python3.5/dist-packages/keras/callbacks.py:116: UserWarning: Method on_batch_end() is slow compared to the batch update (2.799986). Check your callbacks.\n",
      "  % delta_t_median)\n"
     ]
    },
    {
     "name": "stdout",
     "output_type": "stream",
     "text": [
      "  500/21180 [..............................] - ETA: 38:39 - loss: 0.0102 - acc: 0.9978test map: 0.619023391423\n",
      " 1000/21180 [>.............................] - ETA: 37:47 - loss: 0.0083 - acc: 0.9983test map: 0.617476152068\n",
      " 1500/21180 [=>............................] - ETA: 36:54 - loss: 0.0078 - acc: 0.9983test map: 0.618567951851\n",
      " 2000/21180 [=>............................] - ETA: 35:56 - loss: 0.0081 - acc: 0.9982test map: 0.620000770414\n",
      " 2500/21180 [==>...........................] - ETA: 35:00 - loss: 0.0083 - acc: 0.9981test map: 0.619199903828\n",
      " 3000/21180 [===>..........................] - ETA: 34:05 - loss: 0.0084 - acc: 0.9981test map: 0.618110080481\n",
      " 3500/21180 [===>..........................] - ETA: 33:08 - loss: 0.0094 - acc: 0.9979test map: 0.617114118626\n",
      " 4000/21180 [====>.........................] - ETA: 32:12 - loss: 0.0097 - acc: 0.9979test map: 0.616982608493\n",
      " 4500/21180 [=====>........................] - ETA: 31:16 - loss: 0.0096 - acc: 0.9979test map: 0.617294470232\n",
      " 5000/21180 [======>.......................] - ETA: 30:20 - loss: 0.0098 - acc: 0.9978test map: 0.61681075575\n",
      " 5500/21180 [======>.......................] - ETA: 29:24 - loss: 0.0097 - acc: 0.9977test map: 0.616727061078\n",
      " 6000/21180 [=======>......................] - ETA: 28:27 - loss: 0.0098 - acc: 0.9976test map: 0.615426607607\n",
      " 6500/21180 [========>.....................] - ETA: 27:31 - loss: 0.0100 - acc: 0.9976test map: 0.614574544967\n",
      " 7000/21180 [========>.....................] - ETA: 26:34 - loss: 0.0100 - acc: 0.9977test map: 0.614457902191\n",
      " 7500/21180 [=========>....................] - ETA: 25:38 - loss: 0.0101 - acc: 0.9977test map: 0.617407388065\n",
      " 8000/21180 [==========>...................] - ETA: 24:42 - loss: 0.0102 - acc: 0.9976test map: 0.617386314236\n",
      " 8500/21180 [===========>..................] - ETA: 23:46 - loss: 0.0102 - acc: 0.9976test map: 0.617782445123\n",
      " 9000/21180 [===========>..................] - ETA: 22:49 - loss: 0.0102 - acc: 0.9976test map: 0.61681846513\n",
      " 9500/21180 [============>.................] - ETA: 21:53 - loss: 0.0104 - acc: 0.9976"
     ]
    },
    {
     "ename": "KeyboardInterrupt",
     "evalue": "",
     "output_type": "error",
     "traceback": [
      "\u001b[0;31m---------------------------------------------------------------------------\u001b[0m",
      "\u001b[0;31mKeyboardInterrupt\u001b[0m                         Traceback (most recent call last)",
      "\u001b[0;32m<ipython-input-31-05ac25e3a21f>\u001b[0m in \u001b[0;36m<module>\u001b[0;34m()\u001b[0m\n\u001b[1;32m      1\u001b[0m model.fit_generator(training_generator,\n\u001b[1;32m      2\u001b[0m                     \u001b[0mepochs\u001b[0m\u001b[0;34m=\u001b[0m\u001b[0;36m100\u001b[0m\u001b[0;34m,\u001b[0m\u001b[0;34m\u001b[0m\u001b[0m\n\u001b[0;32m----> 3\u001b[0;31m                     callbacks=[print_map])\n\u001b[0m",
      "\u001b[0;32m/usr/local/lib/python3.5/dist-packages/keras/legacy/interfaces.py\u001b[0m in \u001b[0;36mwrapper\u001b[0;34m(*args, **kwargs)\u001b[0m\n\u001b[1;32m     85\u001b[0m                 warnings.warn('Update your `' + object_name +\n\u001b[1;32m     86\u001b[0m                               '` call to the Keras 2 API: ' + signature, stacklevel=2)\n\u001b[0;32m---> 87\u001b[0;31m             \u001b[0;32mreturn\u001b[0m \u001b[0mfunc\u001b[0m\u001b[0;34m(\u001b[0m\u001b[0;34m*\u001b[0m\u001b[0margs\u001b[0m\u001b[0;34m,\u001b[0m \u001b[0;34m**\u001b[0m\u001b[0mkwargs\u001b[0m\u001b[0;34m)\u001b[0m\u001b[0;34m\u001b[0m\u001b[0m\n\u001b[0m\u001b[1;32m     88\u001b[0m         \u001b[0mwrapper\u001b[0m\u001b[0;34m.\u001b[0m\u001b[0m_original_function\u001b[0m \u001b[0;34m=\u001b[0m \u001b[0mfunc\u001b[0m\u001b[0;34m\u001b[0m\u001b[0m\n\u001b[1;32m     89\u001b[0m         \u001b[0;32mreturn\u001b[0m \u001b[0mwrapper\u001b[0m\u001b[0;34m\u001b[0m\u001b[0m\n",
      "\u001b[0;32m/usr/local/lib/python3.5/dist-packages/keras/engine/training.py\u001b[0m in \u001b[0;36mfit_generator\u001b[0;34m(self, generator, steps_per_epoch, epochs, verbose, callbacks, validation_data, validation_steps, class_weight, max_queue_size, workers, use_multiprocessing, shuffle, initial_epoch)\u001b[0m\n\u001b[1;32m   2152\u001b[0m                         \u001b[0mbatch_logs\u001b[0m\u001b[0;34m[\u001b[0m\u001b[0ml\u001b[0m\u001b[0;34m]\u001b[0m \u001b[0;34m=\u001b[0m \u001b[0mo\u001b[0m\u001b[0;34m\u001b[0m\u001b[0m\n\u001b[1;32m   2153\u001b[0m \u001b[0;34m\u001b[0m\u001b[0m\n\u001b[0;32m-> 2154\u001b[0;31m                     \u001b[0mcallbacks\u001b[0m\u001b[0;34m.\u001b[0m\u001b[0mon_batch_end\u001b[0m\u001b[0;34m(\u001b[0m\u001b[0mbatch_index\u001b[0m\u001b[0;34m,\u001b[0m \u001b[0mbatch_logs\u001b[0m\u001b[0;34m)\u001b[0m\u001b[0;34m\u001b[0m\u001b[0m\n\u001b[0m\u001b[1;32m   2155\u001b[0m \u001b[0;34m\u001b[0m\u001b[0m\n\u001b[1;32m   2156\u001b[0m                     \u001b[0;31m# Construct epoch logs.\u001b[0m\u001b[0;34m\u001b[0m\u001b[0;34m\u001b[0m\u001b[0m\n",
      "\u001b[0;32m/usr/local/lib/python3.5/dist-packages/keras/callbacks.py\u001b[0m in \u001b[0;36mon_batch_end\u001b[0;34m(self, batch, logs)\u001b[0m\n\u001b[1;32m    107\u001b[0m         \u001b[0mt_before_callbacks\u001b[0m \u001b[0;34m=\u001b[0m \u001b[0mtime\u001b[0m\u001b[0;34m.\u001b[0m\u001b[0mtime\u001b[0m\u001b[0;34m(\u001b[0m\u001b[0;34m)\u001b[0m\u001b[0;34m\u001b[0m\u001b[0m\n\u001b[1;32m    108\u001b[0m         \u001b[0;32mfor\u001b[0m \u001b[0mcallback\u001b[0m \u001b[0;32min\u001b[0m \u001b[0mself\u001b[0m\u001b[0;34m.\u001b[0m\u001b[0mcallbacks\u001b[0m\u001b[0;34m:\u001b[0m\u001b[0;34m\u001b[0m\u001b[0m\n\u001b[0;32m--> 109\u001b[0;31m             \u001b[0mcallback\u001b[0m\u001b[0;34m.\u001b[0m\u001b[0mon_batch_end\u001b[0m\u001b[0;34m(\u001b[0m\u001b[0mbatch\u001b[0m\u001b[0;34m,\u001b[0m \u001b[0mlogs\u001b[0m\u001b[0;34m)\u001b[0m\u001b[0;34m\u001b[0m\u001b[0m\n\u001b[0m\u001b[1;32m    110\u001b[0m         \u001b[0mself\u001b[0m\u001b[0;34m.\u001b[0m\u001b[0m_delta_ts_batch_end\u001b[0m\u001b[0;34m.\u001b[0m\u001b[0mappend\u001b[0m\u001b[0;34m(\u001b[0m\u001b[0mtime\u001b[0m\u001b[0;34m.\u001b[0m\u001b[0mtime\u001b[0m\u001b[0;34m(\u001b[0m\u001b[0;34m)\u001b[0m \u001b[0;34m-\u001b[0m \u001b[0mt_before_callbacks\u001b[0m\u001b[0;34m)\u001b[0m\u001b[0;34m\u001b[0m\u001b[0m\n\u001b[1;32m    111\u001b[0m         \u001b[0mdelta_t_median\u001b[0m \u001b[0;34m=\u001b[0m \u001b[0mnp\u001b[0m\u001b[0;34m.\u001b[0m\u001b[0mmedian\u001b[0m\u001b[0;34m(\u001b[0m\u001b[0mself\u001b[0m\u001b[0;34m.\u001b[0m\u001b[0m_delta_ts_batch_end\u001b[0m\u001b[0;34m)\u001b[0m\u001b[0;34m\u001b[0m\u001b[0m\n",
      "\u001b[0;32m<ipython-input-18-2bd1ab7eca08>\u001b[0m in \u001b[0;36mon_batch_end\u001b[0;34m(self, batch, logs)\u001b[0m\n\u001b[1;32m     27\u001b[0m         \u001b[0;32mif\u001b[0m \u001b[0mbatch\u001b[0m\u001b[0;34m%\u001b[0m\u001b[0;36m500\u001b[0m\u001b[0;34m==\u001b[0m\u001b[0;36m0\u001b[0m\u001b[0;34m:\u001b[0m\u001b[0;34m\u001b[0m\u001b[0m\n\u001b[1;32m     28\u001b[0m             \u001b[0mfeat_extractor\u001b[0m \u001b[0;34m=\u001b[0m \u001b[0mModel\u001b[0m\u001b[0;34m(\u001b[0m\u001b[0minputs\u001b[0m\u001b[0;34m=\u001b[0m\u001b[0mself\u001b[0m\u001b[0;34m.\u001b[0m\u001b[0mmodel\u001b[0m\u001b[0;34m.\u001b[0m\u001b[0mlayers\u001b[0m\u001b[0;34m[\u001b[0m\u001b[0;36m2\u001b[0m\u001b[0;34m]\u001b[0m\u001b[0;34m.\u001b[0m\u001b[0mget_input_at\u001b[0m\u001b[0;34m(\u001b[0m\u001b[0;36m0\u001b[0m\u001b[0;34m)\u001b[0m\u001b[0;34m,\u001b[0m \u001b[0moutputs\u001b[0m\u001b[0;34m=\u001b[0m\u001b[0mself\u001b[0m\u001b[0;34m.\u001b[0m\u001b[0mmodel\u001b[0m\u001b[0;34m.\u001b[0m\u001b[0mlayers\u001b[0m\u001b[0;34m[\u001b[0m\u001b[0;36m2\u001b[0m\u001b[0;34m]\u001b[0m\u001b[0;34m.\u001b[0m\u001b[0mlayers\u001b[0m\u001b[0;34m[\u001b[0m\u001b[0;36m19\u001b[0m\u001b[0;34m]\u001b[0m\u001b[0;34m.\u001b[0m\u001b[0moutput\u001b[0m\u001b[0;34m)\u001b[0m\u001b[0;34m\u001b[0m\u001b[0m\n\u001b[0;32m---> 29\u001b[0;31m             \u001b[0mfeatures\u001b[0m\u001b[0;34m=\u001b[0m\u001b[0mfeat_extractor\u001b[0m\u001b[0;34m.\u001b[0m\u001b[0mpredict\u001b[0m\u001b[0;34m(\u001b[0m\u001b[0mx_test\u001b[0m\u001b[0;34m)\u001b[0m\u001b[0;34m\u001b[0m\u001b[0m\n\u001b[0m\u001b[1;32m     30\u001b[0m             \u001b[0mtest_map\u001b[0m\u001b[0;34m=\u001b[0m\u001b[0mmap_from_feature_matrix\u001b[0m\u001b[0;34m(\u001b[0m\u001b[0mfeatures\u001b[0m\u001b[0;34m,\u001b[0m \u001b[0my_test\u001b[0m\u001b[0;34m,\u001b[0m \u001b[0;34m'cosine'\u001b[0m\u001b[0;34m,\u001b[0m \u001b[0;32mTrue\u001b[0m\u001b[0;34m)\u001b[0m\u001b[0;34m[\u001b[0m\u001b[0;36m0\u001b[0m\u001b[0;34m]\u001b[0m\u001b[0;34m\u001b[0m\u001b[0m\n\u001b[1;32m     31\u001b[0m             \u001b[0mprint\u001b[0m\u001b[0;34m(\u001b[0m\u001b[0;34m'test map:'\u001b[0m\u001b[0;34m,\u001b[0m\u001b[0mtest_map\u001b[0m\u001b[0;34m)\u001b[0m\u001b[0;34m\u001b[0m\u001b[0m\n",
      "\u001b[0;32m/usr/local/lib/python3.5/dist-packages/keras/engine/training.py\u001b[0m in \u001b[0;36mpredict\u001b[0;34m(self, x, batch_size, verbose, steps)\u001b[0m\n\u001b[1;32m   1788\u001b[0m         \u001b[0mf\u001b[0m \u001b[0;34m=\u001b[0m \u001b[0mself\u001b[0m\u001b[0;34m.\u001b[0m\u001b[0mpredict_function\u001b[0m\u001b[0;34m\u001b[0m\u001b[0m\n\u001b[1;32m   1789\u001b[0m         return self._predict_loop(f, ins, batch_size=batch_size,\n\u001b[0;32m-> 1790\u001b[0;31m                                   verbose=verbose, steps=steps)\n\u001b[0m\u001b[1;32m   1791\u001b[0m \u001b[0;34m\u001b[0m\u001b[0m\n\u001b[1;32m   1792\u001b[0m     def train_on_batch(self, x, y,\n",
      "\u001b[0;32m/usr/local/lib/python3.5/dist-packages/keras/engine/training.py\u001b[0m in \u001b[0;36m_predict_loop\u001b[0;34m(self, f, ins, batch_size, verbose, steps)\u001b[0m\n\u001b[1;32m   1297\u001b[0m                 \u001b[0;32melse\u001b[0m\u001b[0;34m:\u001b[0m\u001b[0;34m\u001b[0m\u001b[0m\n\u001b[1;32m   1298\u001b[0m                     \u001b[0mins_batch\u001b[0m \u001b[0;34m=\u001b[0m \u001b[0m_slice_arrays\u001b[0m\u001b[0;34m(\u001b[0m\u001b[0mins\u001b[0m\u001b[0;34m,\u001b[0m \u001b[0mbatch_ids\u001b[0m\u001b[0;34m)\u001b[0m\u001b[0;34m\u001b[0m\u001b[0m\n\u001b[0;32m-> 1299\u001b[0;31m                 \u001b[0mbatch_outs\u001b[0m \u001b[0;34m=\u001b[0m \u001b[0mf\u001b[0m\u001b[0;34m(\u001b[0m\u001b[0mins_batch\u001b[0m\u001b[0;34m)\u001b[0m\u001b[0;34m\u001b[0m\u001b[0m\n\u001b[0m\u001b[1;32m   1300\u001b[0m                 \u001b[0;32mif\u001b[0m \u001b[0;32mnot\u001b[0m \u001b[0misinstance\u001b[0m\u001b[0;34m(\u001b[0m\u001b[0mbatch_outs\u001b[0m\u001b[0;34m,\u001b[0m \u001b[0mlist\u001b[0m\u001b[0;34m)\u001b[0m\u001b[0;34m:\u001b[0m\u001b[0;34m\u001b[0m\u001b[0m\n\u001b[1;32m   1301\u001b[0m                     \u001b[0mbatch_outs\u001b[0m \u001b[0;34m=\u001b[0m \u001b[0;34m[\u001b[0m\u001b[0mbatch_outs\u001b[0m\u001b[0;34m]\u001b[0m\u001b[0;34m\u001b[0m\u001b[0m\n",
      "\u001b[0;32m/usr/local/lib/python3.5/dist-packages/keras/backend/tensorflow_backend.py\u001b[0m in \u001b[0;36m__call__\u001b[0;34m(self, inputs)\u001b[0m\n\u001b[1;32m   2355\u001b[0m         \u001b[0msession\u001b[0m \u001b[0;34m=\u001b[0m \u001b[0mget_session\u001b[0m\u001b[0;34m(\u001b[0m\u001b[0;34m)\u001b[0m\u001b[0;34m\u001b[0m\u001b[0m\n\u001b[1;32m   2356\u001b[0m         updated = session.run(fetches=fetches, feed_dict=feed_dict,\n\u001b[0;32m-> 2357\u001b[0;31m                               **self.session_kwargs)\n\u001b[0m\u001b[1;32m   2358\u001b[0m         \u001b[0;32mreturn\u001b[0m \u001b[0mupdated\u001b[0m\u001b[0;34m[\u001b[0m\u001b[0;34m:\u001b[0m\u001b[0mlen\u001b[0m\u001b[0;34m(\u001b[0m\u001b[0mself\u001b[0m\u001b[0;34m.\u001b[0m\u001b[0moutputs\u001b[0m\u001b[0;34m)\u001b[0m\u001b[0;34m]\u001b[0m\u001b[0;34m\u001b[0m\u001b[0m\n\u001b[1;32m   2359\u001b[0m \u001b[0;34m\u001b[0m\u001b[0m\n",
      "\u001b[0;32m/usr/local/lib/python3.5/dist-packages/tensorflow/python/client/session.py\u001b[0m in \u001b[0;36mrun\u001b[0;34m(self, fetches, feed_dict, options, run_metadata)\u001b[0m\n\u001b[1;32m    787\u001b[0m     \u001b[0;32mtry\u001b[0m\u001b[0;34m:\u001b[0m\u001b[0;34m\u001b[0m\u001b[0m\n\u001b[1;32m    788\u001b[0m       result = self._run(None, fetches, feed_dict, options_ptr,\n\u001b[0;32m--> 789\u001b[0;31m                          run_metadata_ptr)\n\u001b[0m\u001b[1;32m    790\u001b[0m       \u001b[0;32mif\u001b[0m \u001b[0mrun_metadata\u001b[0m\u001b[0;34m:\u001b[0m\u001b[0;34m\u001b[0m\u001b[0m\n\u001b[1;32m    791\u001b[0m         \u001b[0mproto_data\u001b[0m \u001b[0;34m=\u001b[0m \u001b[0mtf_session\u001b[0m\u001b[0;34m.\u001b[0m\u001b[0mTF_GetBuffer\u001b[0m\u001b[0;34m(\u001b[0m\u001b[0mrun_metadata_ptr\u001b[0m\u001b[0;34m)\u001b[0m\u001b[0;34m\u001b[0m\u001b[0m\n",
      "\u001b[0;32m/usr/local/lib/python3.5/dist-packages/tensorflow/python/client/session.py\u001b[0m in \u001b[0;36m_run\u001b[0;34m(self, handle, fetches, feed_dict, options, run_metadata)\u001b[0m\n\u001b[1;32m    995\u001b[0m     \u001b[0;32mif\u001b[0m \u001b[0mfinal_fetches\u001b[0m \u001b[0;32mor\u001b[0m \u001b[0mfinal_targets\u001b[0m\u001b[0;34m:\u001b[0m\u001b[0;34m\u001b[0m\u001b[0m\n\u001b[1;32m    996\u001b[0m       results = self._do_run(handle, final_targets, final_fetches,\n\u001b[0;32m--> 997\u001b[0;31m                              feed_dict_string, options, run_metadata)\n\u001b[0m\u001b[1;32m    998\u001b[0m     \u001b[0;32melse\u001b[0m\u001b[0;34m:\u001b[0m\u001b[0;34m\u001b[0m\u001b[0m\n\u001b[1;32m    999\u001b[0m       \u001b[0mresults\u001b[0m \u001b[0;34m=\u001b[0m \u001b[0;34m[\u001b[0m\u001b[0;34m]\u001b[0m\u001b[0;34m\u001b[0m\u001b[0m\n",
      "\u001b[0;32m/usr/local/lib/python3.5/dist-packages/tensorflow/python/client/session.py\u001b[0m in \u001b[0;36m_do_run\u001b[0;34m(self, handle, target_list, fetch_list, feed_dict, options, run_metadata)\u001b[0m\n\u001b[1;32m   1130\u001b[0m     \u001b[0;32mif\u001b[0m \u001b[0mhandle\u001b[0m \u001b[0;32mis\u001b[0m \u001b[0;32mNone\u001b[0m\u001b[0;34m:\u001b[0m\u001b[0;34m\u001b[0m\u001b[0m\n\u001b[1;32m   1131\u001b[0m       return self._do_call(_run_fn, self._session, feed_dict, fetch_list,\n\u001b[0;32m-> 1132\u001b[0;31m                            target_list, options, run_metadata)\n\u001b[0m\u001b[1;32m   1133\u001b[0m     \u001b[0;32melse\u001b[0m\u001b[0;34m:\u001b[0m\u001b[0;34m\u001b[0m\u001b[0m\n\u001b[1;32m   1134\u001b[0m       return self._do_call(_prun_fn, self._session, handle, feed_dict,\n",
      "\u001b[0;32m/usr/local/lib/python3.5/dist-packages/tensorflow/python/client/session.py\u001b[0m in \u001b[0;36m_do_call\u001b[0;34m(self, fn, *args)\u001b[0m\n\u001b[1;32m   1137\u001b[0m   \u001b[0;32mdef\u001b[0m \u001b[0m_do_call\u001b[0m\u001b[0;34m(\u001b[0m\u001b[0mself\u001b[0m\u001b[0;34m,\u001b[0m \u001b[0mfn\u001b[0m\u001b[0;34m,\u001b[0m \u001b[0;34m*\u001b[0m\u001b[0margs\u001b[0m\u001b[0;34m)\u001b[0m\u001b[0;34m:\u001b[0m\u001b[0;34m\u001b[0m\u001b[0m\n\u001b[1;32m   1138\u001b[0m     \u001b[0;32mtry\u001b[0m\u001b[0;34m:\u001b[0m\u001b[0;34m\u001b[0m\u001b[0m\n\u001b[0;32m-> 1139\u001b[0;31m       \u001b[0;32mreturn\u001b[0m \u001b[0mfn\u001b[0m\u001b[0;34m(\u001b[0m\u001b[0;34m*\u001b[0m\u001b[0margs\u001b[0m\u001b[0;34m)\u001b[0m\u001b[0;34m\u001b[0m\u001b[0m\n\u001b[0m\u001b[1;32m   1140\u001b[0m     \u001b[0;32mexcept\u001b[0m \u001b[0merrors\u001b[0m\u001b[0;34m.\u001b[0m\u001b[0mOpError\u001b[0m \u001b[0;32mas\u001b[0m \u001b[0me\u001b[0m\u001b[0;34m:\u001b[0m\u001b[0;34m\u001b[0m\u001b[0m\n\u001b[1;32m   1141\u001b[0m       \u001b[0mmessage\u001b[0m \u001b[0;34m=\u001b[0m \u001b[0mcompat\u001b[0m\u001b[0;34m.\u001b[0m\u001b[0mas_text\u001b[0m\u001b[0;34m(\u001b[0m\u001b[0me\u001b[0m\u001b[0;34m.\u001b[0m\u001b[0mmessage\u001b[0m\u001b[0;34m)\u001b[0m\u001b[0;34m\u001b[0m\u001b[0m\n",
      "\u001b[0;32m/usr/local/lib/python3.5/dist-packages/tensorflow/python/client/session.py\u001b[0m in \u001b[0;36m_run_fn\u001b[0;34m(session, feed_dict, fetch_list, target_list, options, run_metadata)\u001b[0m\n\u001b[1;32m   1119\u001b[0m         return tf_session.TF_Run(session, options,\n\u001b[1;32m   1120\u001b[0m                                  \u001b[0mfeed_dict\u001b[0m\u001b[0;34m,\u001b[0m \u001b[0mfetch_list\u001b[0m\u001b[0;34m,\u001b[0m \u001b[0mtarget_list\u001b[0m\u001b[0;34m,\u001b[0m\u001b[0;34m\u001b[0m\u001b[0m\n\u001b[0;32m-> 1121\u001b[0;31m                                  status, run_metadata)\n\u001b[0m\u001b[1;32m   1122\u001b[0m \u001b[0;34m\u001b[0m\u001b[0m\n\u001b[1;32m   1123\u001b[0m     \u001b[0;32mdef\u001b[0m \u001b[0m_prun_fn\u001b[0m\u001b[0;34m(\u001b[0m\u001b[0msession\u001b[0m\u001b[0;34m,\u001b[0m \u001b[0mhandle\u001b[0m\u001b[0;34m,\u001b[0m \u001b[0mfeed_dict\u001b[0m\u001b[0;34m,\u001b[0m \u001b[0mfetch_list\u001b[0m\u001b[0;34m)\u001b[0m\u001b[0;34m:\u001b[0m\u001b[0;34m\u001b[0m\u001b[0m\n",
      "\u001b[0;31mKeyboardInterrupt\u001b[0m: "
     ]
    }
   ],
   "source": [
    "model.fit_generator(training_generator,\n",
    "                    epochs=100,\n",
    "                    callbacks=[print_map])"
   ]
  },
  {
   "cell_type": "code",
   "execution_count": 32,
   "metadata": {
    "collapsed": false
   },
   "outputs": [],
   "source": [
    "feat_extractor = Model(inputs=model.layers[2].get_input_at(0), outputs=model.layers[2].layers[19].output)\n",
    "features=feat_extractor.predict(x_test)"
   ]
  },
  {
   "cell_type": "code",
   "execution_count": 33,
   "metadata": {
    "collapsed": false
   },
   "outputs": [
    {
     "data": {
      "text/plain": [
       "0.61902132580466573"
      ]
     },
     "execution_count": 33,
     "metadata": {},
     "output_type": "execute_result"
    }
   ],
   "source": [
    "map_from_feature_matrix(features, y_test, 'euclidean', True)[0]"
   ]
  },
  {
   "cell_type": "code",
   "execution_count": 34,
   "metadata": {
    "collapsed": true
   },
   "outputs": [],
   "source": [
    "def save_first_n_retrievals(images, features, labels, metric, query_index, number_of_retrievals):\n",
    "    # argument error checks\n",
    "    if features.shape[0] != len(labels):\n",
    "        raise ValueError('The number of feature vectors and number of labels must match')\n",
    "    # compute the pairwise distances from the features\n",
    "    dists = pdist(X=features, metric=metric)\n",
    "    dists = squareform(dists)\n",
    "    inds = np.argsort(dists, axis=1)\n",
    "    label=labels[query_index]\n",
    "    sorted_images=[images[i]*255 for i in inds[query_index][:number_of_retrievals]]\n",
    "    if not os.path.exists('first_n_retrievals'):\n",
    "        os.makedirs('first_n_retrievals')\n",
    "    for i, img in enumerate(sorted_images):\n",
    "        cv2.imwrite('first_n_retrievals/'+str(i)+'.png', img)\n",
    "    return"
   ]
  },
  {
   "cell_type": "code",
   "execution_count": 35,
   "metadata": {
    "collapsed": false
   },
   "outputs": [],
   "source": [
    "save_first_n_retrievals(x_test, features, y_test, 'euclidean', 116, 5)"
   ]
  },
  {
   "cell_type": "code",
   "execution_count": null,
   "metadata": {
    "collapsed": true
   },
   "outputs": [],
   "source": []
  }
 ],
 "metadata": {
  "kernelspec": {
   "display_name": "Python 3",
   "language": "python",
   "name": "python3"
  },
  "language_info": {
   "codemirror_mode": {
    "name": "ipython",
    "version": 3
   },
   "file_extension": ".py",
   "mimetype": "text/x-python",
   "name": "python",
   "nbconvert_exporter": "python",
   "pygments_lexer": "ipython3",
   "version": "3.5.2"
  }
 },
 "nbformat": 4,
 "nbformat_minor": 1
}
