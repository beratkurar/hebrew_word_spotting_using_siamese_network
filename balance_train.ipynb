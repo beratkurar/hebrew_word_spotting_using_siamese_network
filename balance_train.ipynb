{
 "cells": [
  {
   "cell_type": "code",
   "execution_count": 1,
   "metadata": {
    "collapsed": true
   },
   "outputs": [],
   "source": [
    "import os\n",
    "import cv2\n",
    "import random\n",
    "import numpy as np"
   ]
  },
  {
   "cell_type": "code",
   "execution_count": 2,
   "metadata": {
    "collapsed": true
   },
   "outputs": [],
   "source": [
    "def augment_input(img):\n",
    "    random_limits = (0.9, 1.1)\n",
    "    y, x = img.shape[:2]\n",
    "    fx = float(x)\n",
    "    fy = float(y)\n",
    "    src_point = np.float32([[fx / 2, fy / 3, ],\n",
    "                            [2 * fx / 3, 2 * fy / 3],\n",
    "                            [fx / 3, 2 * fy / 3]])\n",
    "    random_shift = (np.random.rand(3, 2) - 0.5) * 2 * (random_limits[1] - random_limits[0]) / 2 + np.mean(random_limits)\n",
    "    dst_point = src_point * random_shift.astype(np.float32)\n",
    "    transform = cv2.getAffineTransform(src_point, dst_point)\n",
    "    border_value = np.median(np.reshape(img, (img.shape[0] * img.shape[1], -1)), axis=0)\n",
    "    warped_img = cv2.warpAffine(img, transform, dsize=(x, y), borderValue=border_value)\n",
    "    return (warped_img)"
   ]
  },
  {
   "cell_type": "code",
   "execution_count": 3,
   "metadata": {
    "collapsed": true
   },
   "outputs": [],
   "source": [
    "foldername='data/balanced_train'\n",
    "image_classes = {}\n",
    "for image_name in os.listdir(foldername):\n",
    "    class_name = image_name[0:-4].split('_')[0]\n",
    "    if class_name in image_classes:\n",
    "        image_classes[class_name].append(image_name)\n",
    "    else:\n",
    "        image_classes[class_name] = [image_name]\n",
    "\n"
   ]
  },
  {
   "cell_type": "code",
   "execution_count": 4,
   "metadata": {
    "collapsed": false
   },
   "outputs": [],
   "source": [
    "n=30\n",
    "for key in image_classes.keys():    \n",
    "    number_of_samples=len(image_classes.get(key))\n",
    "    if number_of_samples<n:\n",
    "        number_of_augment=n-number_of_samples\n",
    "        original_samples = image_classes.get(key)\n",
    "        for i in range(number_of_augment):\n",
    "            selected_sample=original_samples[random.randint(0,number_of_samples-1)]\n",
    "            augmented_sample=augment_input(cv2.imread(foldername+'/'+selected_sample,0))\n",
    "            cv2.imwrite(foldername+'/'+selected_sample[:-4]+'a'+str(i)+'.png',augmented_sample)"
   ]
  },
  {
   "cell_type": "code",
   "execution_count": null,
   "metadata": {
    "collapsed": true
   },
   "outputs": [],
   "source": []
  }
 ],
 "metadata": {
  "kernelspec": {
   "display_name": "Python 3",
   "language": "python",
   "name": "python3"
  },
  "language_info": {
   "codemirror_mode": {
    "name": "ipython",
    "version": 3
   },
   "file_extension": ".py",
   "mimetype": "text/x-python",
   "name": "python",
   "nbconvert_exporter": "python",
   "pygments_lexer": "ipython3",
   "version": "3.5.2"
  }
 },
 "nbformat": 4,
 "nbformat_minor": 1
}
