{
 "cells": [
  {
   "cell_type": "code",
   "execution_count": 1,
   "metadata": {
    "collapsed": true
   },
   "outputs": [],
   "source": [
    "'''\n",
    "Created on Jul 10, 2016\n",
    "\n",
    "@author: ssudholt\n",
    "'''\n",
    "import numpy as np\n",
    "from scipy.spatial.distance import pdist, squareform, cdist\n",
    "\n",
    "def map_from_feature_matrix(features, labels, metric, drop_first):\n",
    "    '''\n",
    "    Computes mAP and APs from a given matrix of feature vectors\n",
    "    Each sample is used as a query once and all the other samples are\n",
    "    used for testing. The user can specify whether he wants to include\n",
    "    the query in the test results as well or not.\n",
    "    \n",
    "    Args:\n",
    "        features (2d-ndarray): the feature representation from which to compute the mAP\n",
    "        labels (1d-ndarray or list): the labels corresponding to the features (either numeric or characters)\n",
    "        metric (string): the metric to be used in calculating the mAP\n",
    "        drop_first (bool): whether to drop the first retrieval result or not\n",
    "    '''\n",
    "    # argument error checks\n",
    "    if features.shape[0] != len(labels):\n",
    "        raise ValueError('The number of feature vectors and number of labels must match')\n",
    "    # compute the pairwise distances from the\n",
    "    # features\n",
    "    dists = pdist(X=features, metric=metric)\n",
    "    dists = squareform(dists)\n",
    "    inds = np.argsort(dists, axis=1)\n",
    "    retr_mat = np.tile(labels, (features.shape[0],1))\n",
    "    \n",
    "    # compute two matrices for selecting rows and columns\n",
    "    # from the label matrix\n",
    "    # -> advanced indexing\n",
    "    row_selector = np.transpose(np.tile(np.arange(features.shape[0]), (features.shape[0],1)))\n",
    "    retr_mat = retr_mat[row_selector, inds]\n",
    "    \n",
    "    # create the relevance matrix\n",
    "    rel_matrix = retr_mat == np.atleast_2d(labels).T\n",
    "    if drop_first:\n",
    "        rel_matrix = rel_matrix[:,1:]\n",
    "        \n",
    "    # calculate mAP and APs\n",
    "    map_calc = MeanAveragePrecision()\n",
    "    avg_precs = np.array([map_calc.average_precision(row) for row in rel_matrix])\n",
    "    mAP = np.mean(avg_precs)\n",
    "    return mAP, avg_precs\n",
    "\n",
    "def map_from_query_test_feature_matrices(query_features, test_features, query_labels, test_labels, \n",
    "                                         metric, drop_first=False):\n",
    "    '''\n",
    "    Computes mAP and APs for a given matrix of query representations\n",
    "    and another matrix of test representations\n",
    "    Each query is used once to rank the test samples.\n",
    "    \n",
    "    Args:\n",
    "        query_features (2d-ndarray): the feature representation for the queries\n",
    "        query_labels (1d-ndarray or list): the labels corresponding to the queries (either numeric or characters)\n",
    "        test_features (2d-ndarray): the feature representation for the test samples\n",
    "        test_labels (1d-ndarray or list): the labels corresponding to the test samples (either numeric or characters)\n",
    "        metric (string): the metric to be used in calculating the mAP\n",
    "        drop_first (bool): whether to drop the first retrieval result or not\n",
    "    '''\n",
    "    # some argument error checking\n",
    "    if query_features.shape[1] != test_features.shape[1]:\n",
    "        raise ValueError('Shape mismatch')\n",
    "    if query_features.shape[0] != len(query_labels):\n",
    "        raise ValueError('The number of query feature vectors and query labels does not match')\n",
    "    if test_features.shape[0] != len(test_labels):\n",
    "        raise ValueError('The number of test feature vectors and test labels does not match')\n",
    "    \n",
    "    # compute the nearest neighbors\n",
    "    dist_mat = cdist(XA=query_features, XB=test_features, metric=metric)\n",
    "    retrieval_indices = np.argsort(dist_mat, axis=1)\n",
    "    \n",
    "    # create the retrieval matrix\n",
    "    retr_mat = np.tile(test_labels, (len(query_labels),1))\n",
    "    row_selector = np.transpose(np.tile(np.arange(len(query_labels)), (len(test_labels),1)))\n",
    "    retr_mat = retr_mat[row_selector, retrieval_indices]\n",
    "    \n",
    "    # create the relevance matrix\n",
    "    relevance_matrix = retr_mat == np.atleast_2d(query_labels).T\n",
    "    if drop_first:\n",
    "        relevance_matrix = relevance_matrix[:,1:]\n",
    "    \n",
    "    # calculate mAP and APs\n",
    "    mapCalc = MeanAveragePrecision()\n",
    "    avg_precs = np.array([mapCalc.average_precision(row) for row in relevance_matrix], ndmin=2).flatten()\n",
    "    mAP = np.mean(avg_precs)    \n",
    "    return mAP, avg_precs\n",
    "\n",
    "class IterativeMean(object):\n",
    "    '''\n",
    "    Class for iteratively computing a mean. With every new value (@see: _add_value)\n",
    "    the mean will be updated \n",
    "    '''\n",
    "    \n",
    "    def __init__(self, mean_init=0.0):\n",
    "        self.__mean = mean_init\n",
    "        self.__N = 0.0\n",
    "        \n",
    "    def add_value(self, value):\n",
    "        '''\n",
    "        Updates the mean with respect to value\n",
    "        \n",
    "        Args:\n",
    "            value (float): The value that will be incorporated in the mean\n",
    "        '''  \n",
    "        self.__mean = (self.__N / (self.__N + 1)) * self.__mean + (1.0 / (self.__N + 1)) * value\n",
    "        self.__N += 1\n",
    "        \n",
    "    def get_mean(self):\n",
    "        return self.__mean\n",
    "    \n",
    "    def reset(self):\n",
    "        self.__mean = 0.0\n",
    "        self.__N = 0.0\n",
    "         \n",
    "\n",
    "class MeanAveragePrecision(IterativeMean):\n",
    "    '''\n",
    "    Computes average precision values and iteratively updates their mean\n",
    "    '''\n",
    "    def __init__(self):\n",
    "        super(MeanAveragePrecision, self).__init__()        \n",
    "        \n",
    "    def average_precision(self, ret_vec_relevance, gt_relevance_num=None):\n",
    "        '''\n",
    "        Computes the average precision and updates the mean average precision\n",
    "        \n",
    "        Args:\n",
    "            ret_vec_relevance (1d-ndarray): array containing ground truth (gt) relevance values\n",
    "            gt_relevance_num (int): The number of relevant samples in retrieval. If None the sum\n",
    "                                    over the retrieval gt list is used.\n",
    "        '''\n",
    "        ret_vec_cumsum = np.cumsum(ret_vec_relevance, dtype=float)\n",
    "        ret_vec_range = np.arange(1, ret_vec_relevance.size + 1)\n",
    "        ret_vec_precision = ret_vec_cumsum / ret_vec_range\n",
    "        \n",
    "        if gt_relevance_num is None:\n",
    "            n_relevance = ret_vec_relevance.sum()\n",
    "        else:\n",
    "            n_relevance = gt_relevance_num\n",
    "\n",
    "        if n_relevance > 0:\n",
    "            ret_vec_ap = (ret_vec_precision * ret_vec_relevance).sum() / n_relevance\n",
    "        else:\n",
    "            ret_vec_ap = 0.0\n",
    "        \n",
    "        super(MeanAveragePrecision, self).add_value(ret_vec_ap)\n",
    "        \n",
    "        return ret_vec_ap"
   ]
  },
  {
   "cell_type": "code",
   "execution_count": 2,
   "metadata": {
    "collapsed": false
   },
   "outputs": [
    {
     "name": "stderr",
     "output_type": "stream",
     "text": [
      "Using TensorFlow backend.\n"
     ]
    }
   ],
   "source": [
    "import os\n",
    "import keras\n",
    "from keras.preprocessing import image\n",
    "from keras.applications.imagenet_utils import decode_predictions, preprocess_input\n",
    "from keras.models import Model"
   ]
  },
  {
   "cell_type": "code",
   "execution_count": 3,
   "metadata": {
    "collapsed": true
   },
   "outputs": [],
   "source": [
    "model = keras.applications.VGG16(weights='imagenet', include_top=True)"
   ]
  },
  {
   "cell_type": "code",
   "execution_count": 4,
   "metadata": {
    "collapsed": false
   },
   "outputs": [
    {
     "name": "stdout",
     "output_type": "stream",
     "text": [
      "_________________________________________________________________\n",
      "Layer (type)                 Output Shape              Param #   \n",
      "=================================================================\n",
      "input_1 (InputLayer)         (None, 224, 224, 3)       0         \n",
      "_________________________________________________________________\n",
      "block1_conv1 (Conv2D)        (None, 224, 224, 64)      1792      \n",
      "_________________________________________________________________\n",
      "block1_conv2 (Conv2D)        (None, 224, 224, 64)      36928     \n",
      "_________________________________________________________________\n",
      "block1_pool (MaxPooling2D)   (None, 112, 112, 64)      0         \n",
      "_________________________________________________________________\n",
      "block2_conv1 (Conv2D)        (None, 112, 112, 128)     73856     \n",
      "_________________________________________________________________\n",
      "block2_conv2 (Conv2D)        (None, 112, 112, 128)     147584    \n",
      "_________________________________________________________________\n",
      "block2_pool (MaxPooling2D)   (None, 56, 56, 128)       0         \n",
      "_________________________________________________________________\n",
      "block3_conv1 (Conv2D)        (None, 56, 56, 256)       295168    \n",
      "_________________________________________________________________\n",
      "block3_conv2 (Conv2D)        (None, 56, 56, 256)       590080    \n",
      "_________________________________________________________________\n",
      "block3_conv3 (Conv2D)        (None, 56, 56, 256)       590080    \n",
      "_________________________________________________________________\n",
      "block3_pool (MaxPooling2D)   (None, 28, 28, 256)       0         \n",
      "_________________________________________________________________\n",
      "block4_conv1 (Conv2D)        (None, 28, 28, 512)       1180160   \n",
      "_________________________________________________________________\n",
      "block4_conv2 (Conv2D)        (None, 28, 28, 512)       2359808   \n",
      "_________________________________________________________________\n",
      "block4_conv3 (Conv2D)        (None, 28, 28, 512)       2359808   \n",
      "_________________________________________________________________\n",
      "block4_pool (MaxPooling2D)   (None, 14, 14, 512)       0         \n",
      "_________________________________________________________________\n",
      "block5_conv1 (Conv2D)        (None, 14, 14, 512)       2359808   \n",
      "_________________________________________________________________\n",
      "block5_conv2 (Conv2D)        (None, 14, 14, 512)       2359808   \n",
      "_________________________________________________________________\n",
      "block5_conv3 (Conv2D)        (None, 14, 14, 512)       2359808   \n",
      "_________________________________________________________________\n",
      "block5_pool (MaxPooling2D)   (None, 7, 7, 512)         0         \n",
      "_________________________________________________________________\n",
      "flatten (Flatten)            (None, 25088)             0         \n",
      "_________________________________________________________________\n",
      "fc1 (Dense)                  (None, 4096)              102764544 \n",
      "_________________________________________________________________\n",
      "fc2 (Dense)                  (None, 4096)              16781312  \n",
      "_________________________________________________________________\n",
      "predictions (Dense)          (None, 1000)              4097000   \n",
      "=================================================================\n",
      "Total params: 138,357,544\n",
      "Trainable params: 138,357,544\n",
      "Non-trainable params: 0\n",
      "_________________________________________________________________\n"
     ]
    }
   ],
   "source": [
    "model.summary()"
   ]
  },
  {
   "cell_type": "code",
   "execution_count": 5,
   "metadata": {
    "collapsed": false
   },
   "outputs": [
    {
     "name": "stdout",
     "output_type": "stream",
     "text": [
      "10    1353  1807  2241\t268   2846  2938  3031\t3118  3209  3298  354  67\r\n",
      "1013  1355  1816  2244\t2680  2847  2939  3032\t3119  3210  3299  355  670\r\n",
      "102   1360  1818  2249\t2692  2848  2940  3033\t312   3211  3300  36   673\r\n",
      "1020  1368  182   2254\t2695  2849  2941  3034\t3120  3212  3301  363  687\r\n",
      "1022  1382  1822  2257\t2697  2850  2942  3035\t3121  3213  3302  365  688\r\n",
      "1023  1385  1831  2269\t2698  2851  2943  3036\t3122  3214  3303  366  694\r\n",
      "1026  139   1834  2270\t2699  2852  2944  3037\t3123  3215  3304  368  695\r\n",
      "1027  1391  1835  2274\t2711  2853  2945  3038\t3124  3216  3305  37   7\r\n",
      "1032  1399  1839  2275\t2717  2854  2946  3039\t3125  3217  3306  371  70\r\n",
      "1035  14    184   2280\t2722  2855  2947  304\t3126  3218  3307  375  701\r\n",
      "1036  1400  1842  2285\t2724  2856  2948  3040\t3127  3219  3308  383  702\r\n",
      "104   1404  1849  2289\t2727  2857  2949  3041\t3128  322   3309  386  708\r\n",
      "1040  1408  185   2294\t2728  2858  2950  3042\t3129  3220  3310  388  717\r\n",
      "1041  1434  1852  2296\t2729  2859  2951  3043\t3130  3221  3311  389  72\r\n",
      "1042  1439  186   2297\t2730  2860  2952  3044\t3131  3222  3312  390  727\r\n",
      "1043  144   1863  23\t2733  2861  2953  3045\t3132  3223  3313  391  732\r\n",
      "1047  1446  1866  2303\t2734  2862  2954  3046\t3133  3224  3314  397  740\r\n",
      "1048  145   1871  2306\t2736  2863  2955  3047\t3134  3225  3315  398  743\r\n",
      "105   1454  1874  2310\t2737  2864  2956  3048\t3135  3226  3316  4    75\r\n",
      "1054  1455  1877  2311\t2738  2865  2957  3049\t3136  3227  3317  408  751\r\n",
      "1057  1462  1880  2312\t2739  2866  2958  3050\t3137  3228  3318  413  754\r\n",
      "106   1474  189   2335\t2743  2867  2959  3051\t3138  3229  3319  42   760\r\n",
      "1061  1475  1898  234\t2749  2868  2960  3052\t3139  3230  3320  423  764\r\n",
      "1064  1479  19\t  2345\t2752  2869  2961  3053\t3140  3231  3321  424  769\r\n",
      "1082  1483  1902  238\t276   2870  2962  3054\t3141  3232  3322  425  771\r\n",
      "1086  149   1904  2393\t2761  2871  2963  3055\t3142  3233  3323  428  774\r\n",
      "1089  15    1905  2394\t2767  2872  2964  3056\t3143  3234  3324  43   777\r\n",
      "109   1503  1907  2396\t2768  2873  2965  3057\t3144  3235  3325  432  778\r\n",
      "1091  1505  1908  24\t2779  2874  2966  3058\t3145  3236  3326  434  779\r\n",
      "1092  153   1910  2400\t2783  2875  2967  3059\t3146  3237  3327  435  78\r\n",
      "1093  1542  1919  244\t2785  2876  2968  3060\t3147  3238  3328  436  788\r\n",
      "1094  1547  1920  2448\t2786  2877  2969  3061\t3148  3239  3329  438  789\r\n",
      "1096  1551  1922  245\t2788  2878  2970  3062\t3149  324   3330  44   80\r\n",
      "110   1557  1923  2455\t2789  2879  2971  3063\t315   3240  3331  442  803\r\n",
      "1100  1558  1925  2457\t279   2880  2972  3064\t3150  3241  3332  443  804\r\n",
      "1102  1559  1927  2458\t2790  2881  2973  3065\t3151  3242  3333  444  810\r\n",
      "1115  1571  1928  2460\t2791  2882  2974  3066\t3152  3243  3334  445  817\r\n",
      "1122  1589  1933  2461\t2792  2883  2975  3067\t3153  3244  3335  446  823\r\n",
      "1125  1595  1934  2471\t2793  2884  2976  3068\t3154  3245  3336  447  827\r\n",
      "1138  1599  1936  2475\t2794  2885  2977  3069\t3155  3246  3337  45   829\r\n",
      "1139  1616  1941  2480\t2795  2886  2978  307\t3156  3247  3338  450  835\r\n",
      "114   1621  1944  2481\t2796  2887  2979  3070\t3157  3248  3339  452  84\r\n",
      "1140  1622  1948  2482\t2797  2888  2980  3071\t3158  3249  334   453  843\r\n",
      "1144  163   1955  2485\t2798  2889  2981  3072\t3159  325   3340  455  844\r\n",
      "1149  164   196   2486\t2799  2890  2982  3073\t3160  3250  3341  459  85\r\n",
      "115   1645  197   2487\t28    2891  2983  3074\t3161  3251  3342  46   851\r\n",
      "1157  1646  1974  2489\t2800  2892  2984  3075\t3162  3252  3343  460  854\r\n",
      "1158  1648  198   249\t2801  2893  2985  3076\t3163  3253  3344  465  855\r\n",
      "116   1650  1982  2497\t2802  2894  2986  3077\t3164  3254  3345  468  86\r\n",
      "1161  1651  199   25\t2803  2895  2987  3078\t3165  3255  3346  47   865\r\n",
      "1164  1656  1997  2501\t2804  2896  2988  3079\t3166  3256  3347  477  867\r\n",
      "1165  1664  2\t  2507\t2805  2897  2989  308\t3167  3257  3348  478  87\r\n",
      "117   1669  20\t  2510\t2806  2898  2990  3080\t3168  3258  3349  480  871\r\n",
      "1177  1674  200   2513\t2807  2899  2991  3081\t3169  3259  3350  49   875\r\n",
      "1180  1675  2006  2514\t2808  2900  2992  3082\t3170  3260  3351  490  876\r\n",
      "1181  1678  2007  2517\t2809  2901  2993  3083\t3171  3261  3352  492  885\r\n",
      "1183  168   2012  2524\t281   2902  2994  3084\t3172  3262  3353  494  89\r\n",
      "1187  1685  202   2537\t2810  2903  2995  3085\t3173  3263  3354  495  891\r\n",
      "119   1686  2021  2538\t2811  2904  2996  3086\t3174  3264  3355  497  894\r\n",
      "1195  169   2024  2539\t2812  2905  2997  3087\t3175  3265  3356  498  895\r\n",
      "1197  1690  2025  2540\t2813  2906  2998  3088\t3176  3266  3357  500  896\r\n",
      "1198  1698  203   2542\t2814  2907  2999  3089\t3177  3267  3358  504  9\r\n",
      "120   17    205   2549\t2815  2908  30\t  309\t3178  3268  3359  506  90\r\n",
      "1207  1702  2057  255\t2816  2909  3000  3090\t3179  3269  3360  507  900\r\n",
      "1224  1712  2059  2552\t2817  2910  3001  3091\t3180  327   3361  509  902\r\n",
      "123   1722  2066  2557\t2818  2911  3002  3092\t3181  3270  3362  51   903\r\n",
      "1232  1727  2069  2558\t2819  2912  3003  3093\t3182  3271  3363  510  908\r\n",
      "1234  1729  2073  256\t282   2913  3004  3094\t3183  3272  3364  517  913\r\n",
      "1238  173   2075  2563\t2820  2914  3005  3095\t3184  3273  3365  518  914\r\n",
      "1239  1732  2084  2566\t2821  2915  3006  3096\t3185  3274  3366  52   917\r\n",
      "1249  1738  21\t  2567\t2822  2916  3007  3097\t3186  3275  3367  524  92\r\n",
      "125   174   2104  257\t2823  2917  3008  3098\t3187  3276  3368  526  920\r\n",
      "1254  1746  2106  2577\t2824  2918  3009  3099\t3188  3277  3369  54   926\r\n",
      "1255  1749  2109  2581\t2825  2919  3010  31\t3189  3278  3370  543  937\r\n",
      "1257  1754  211   2583\t2826  292   3011  310\t3190  3279  3371  548  942\r\n",
      "1276  1759  2110  2595\t2827  2920  3012  3100\t3191  3280  3372  57   948\r\n",
      "128   176   2114  2597\t2828  2921  3013  3101\t3192  3281  3373  602  949\r\n",
      "129   1760  212   2599\t2829  2922  3014  3102\t3193  3282  3374  606  952\r\n",
      "1290  1765  213   26\t2830  2923  3015  3103\t3194  3283  3375  609  953\r\n",
      "1304  1767  214   2607\t2831  2924  3016  3104\t3195  3284  3376  610  954\r\n",
      "1305  1768  2148  2609\t2832  2925  3017  3105\t3196  3285  3377  613  955\r\n",
      "1309  1769  2165  2611\t2833  2926  3018  3106\t3197  3286  3378  618  96\r\n",
      "131   177   2169  2612\t2834  2927  3019  3107\t3198  3287  3379  630  966\r\n",
      "1316  1770  2170  2613\t2835  2928  3020  3108\t3199  3288  3380  636  97\r\n",
      "132   1772  2175  2614\t2836  2929  3021  3109\t320   3289  3381  637  971\r\n",
      "1320  1780  2177  2623\t2837  293   3022  311\t3200  329   3382  64   975\r\n",
      "133   1784  218   263\t2838  2930  3023  3110\t3201  3290  3383  644  977\r\n",
      "1335  1786  2188  2636\t2839  2931  3024  3111\t3202  3291  3384  645  989\r\n",
      "1336  1789  22\t  2638\t2840  2932  3025  3112\t3203  3292  3385  646  99\r\n",
      "1337  179   222   265\t2841  2933  3026  3113\t3204  3293  3386  653  994\r\n",
      "134   1795  2224  2653\t2842  2934  3027  3114\t3205  3294  3387  656  996\r\n",
      "1347  1797  2227  2665\t2843  2935  3028  3115\t3206  3295  34\t  661\r\n",
      "135   1799  2229  2667\t2844  2936  3029  3116\t3207  3296  35\t  663\r\n",
      "1352  1800  2240  2670\t2845  2937  3030  3117\t3208  3297  350   668\r\n"
     ]
    }
   ],
   "source": [
    "!ls foldered_test"
   ]
  },
  {
   "cell_type": "code",
   "execution_count": 6,
   "metadata": {
    "collapsed": true
   },
   "outputs": [],
   "source": [
    "import numpy as np\n",
    "import matplotlib.pyplot as plt\n",
    "\n",
    "def load_image(path):\n",
    "    img = image.load_img(path, target_size=model.input_shape[1:3])\n",
    "    x = image.img_to_array(img)\n",
    "    x = np.expand_dims(x, axis=0)\n",
    "    x = preprocess_input(x)\n",
    "    return img, x"
   ]
  },
  {
   "cell_type": "code",
   "execution_count": 7,
   "metadata": {
    "collapsed": false
   },
   "outputs": [
    {
     "name": "stdout",
     "output_type": "stream",
     "text": [
      "shape of x:  (1, 224, 224, 3)\n",
      "data type:  float32\n"
     ]
    },
    {
     "data": {
      "image/png": "[encoded data removed]",
      "text/plain": [
       "<matplotlib.figure.Figure at 0x7f30effa0dd8>"
      ]
     },
     "metadata": {},
     "output_type": "display_data"
    }
   ],
   "source": [
    "img, x = load_image(\"foldered_test/3117/3117_1.png\")\n",
    "print(\"shape of x: \", x.shape)\n",
    "print(\"data type: \", x.dtype)\n",
    "plt.imshow(img)\n",
    "plt.show()"
   ]
  },
  {
   "cell_type": "code",
   "execution_count": 8,
   "metadata": {
    "collapsed": false
   },
   "outputs": [
    {
     "name": "stdout",
     "output_type": "stream",
     "text": [
      "_________________________________________________________________\n",
      "Layer (type)                 Output Shape              Param #   \n",
      "=================================================================\n",
      "input_1 (InputLayer)         (None, 224, 224, 3)       0         \n",
      "_________________________________________________________________\n",
      "block1_conv1 (Conv2D)        (None, 224, 224, 64)      1792      \n",
      "_________________________________________________________________\n",
      "block1_conv2 (Conv2D)        (None, 224, 224, 64)      36928     \n",
      "_________________________________________________________________\n",
      "block1_pool (MaxPooling2D)   (None, 112, 112, 64)      0         \n",
      "_________________________________________________________________\n",
      "block2_conv1 (Conv2D)        (None, 112, 112, 128)     73856     \n",
      "_________________________________________________________________\n",
      "block2_conv2 (Conv2D)        (None, 112, 112, 128)     147584    \n",
      "_________________________________________________________________\n",
      "block2_pool (MaxPooling2D)   (None, 56, 56, 128)       0         \n",
      "_________________________________________________________________\n",
      "block3_conv1 (Conv2D)        (None, 56, 56, 256)       295168    \n",
      "_________________________________________________________________\n",
      "block3_conv2 (Conv2D)        (None, 56, 56, 256)       590080    \n",
      "_________________________________________________________________\n",
      "block3_conv3 (Conv2D)        (None, 56, 56, 256)       590080    \n",
      "_________________________________________________________________\n",
      "block3_pool (MaxPooling2D)   (None, 28, 28, 256)       0         \n",
      "_________________________________________________________________\n",
      "block4_conv1 (Conv2D)        (None, 28, 28, 512)       1180160   \n",
      "_________________________________________________________________\n",
      "block4_conv2 (Conv2D)        (None, 28, 28, 512)       2359808   \n",
      "_________________________________________________________________\n",
      "block4_conv3 (Conv2D)        (None, 28, 28, 512)       2359808   \n",
      "_________________________________________________________________\n",
      "block4_pool (MaxPooling2D)   (None, 14, 14, 512)       0         \n",
      "_________________________________________________________________\n",
      "block5_conv1 (Conv2D)        (None, 14, 14, 512)       2359808   \n",
      "_________________________________________________________________\n",
      "block5_conv2 (Conv2D)        (None, 14, 14, 512)       2359808   \n",
      "_________________________________________________________________\n",
      "block5_conv3 (Conv2D)        (None, 14, 14, 512)       2359808   \n",
      "_________________________________________________________________\n",
      "block5_pool (MaxPooling2D)   (None, 7, 7, 512)         0         \n",
      "_________________________________________________________________\n",
      "flatten (Flatten)            (None, 25088)             0         \n",
      "_________________________________________________________________\n",
      "fc1 (Dense)                  (None, 4096)              102764544 \n",
      "_________________________________________________________________\n",
      "fc2 (Dense)                  (None, 4096)              16781312  \n",
      "=================================================================\n",
      "Total params: 134,260,544\n",
      "Trainable params: 134,260,544\n",
      "Non-trainable params: 0\n",
      "_________________________________________________________________\n"
     ]
    }
   ],
   "source": [
    "feat_extractor = Model(inputs=model.input, outputs=model.get_layer(\"fc2\").output)\n",
    "feat_extractor.summary()"
   ]
  },
  {
   "cell_type": "code",
   "execution_count": 9,
   "metadata": {
    "collapsed": false
   },
   "outputs": [
    {
     "data": {
      "text/plain": [
       "[<matplotlib.lines.Line2D at 0x7f30fb9e9cf8>]"
      ]
     },
     "execution_count": 9,
     "metadata": {},
     "output_type": "execute_result"
    }
   ],
   "source": [
    "img, x = load_image(\"foldered_test/3117/3117_1.png\")\n",
    "feat = feat_extractor.predict(x)\n",
    "\n",
    "plt.figure(figsize=(16,4))\n",
    "plt.plot(feat[0])\n",
    "#plt.show()"
   ]
  },
  {
   "cell_type": "code",
   "execution_count": 10,
   "metadata": {
    "collapsed": false
   },
   "outputs": [
    {
     "name": "stdout",
     "output_type": "stream",
     "text": [
      "keeping 3199 images to analyze\n"
     ]
    }
   ],
   "source": [
    "images_path = 'foldered_test'\n",
    "image_extensions = ['.jpg', '.png', '.jpeg']   # case-insensitive (upper/lower doesn't matter)\n",
    "max_num_images = 3200\n",
    "\n",
    "images = [os.path.join(dp, f) for dp, dn, filenames in os.walk(images_path) for f in filenames if os.path.splitext(f)[1].lower() in image_extensions]\n",
    "if max_num_images < len(images):\n",
    "    images = [images[i] for i in sorted(random.sample(xrange(len(images)), max_num_images))]\n",
    "\n",
    "print(\"keeping %d images to analyze\" % len(images))"
   ]
  },
  {
   "cell_type": "code",
   "execution_count": 11,
   "metadata": {
    "collapsed": false
   },
   "outputs": [],
   "source": [
    "labels=[int(p.split('/')[1]) for p in images]\n"
   ]
  },
  {
   "cell_type": "code",
   "execution_count": 12,
   "metadata": {
    "collapsed": false
   },
   "outputs": [
    {
     "name": "stdout",
     "output_type": "stream",
     "text": [
      "analyzing image 0 / 3199. Time: 0.0003 seconds.\n",
      "analyzing image 500 / 3199. Time: 4.4876 seconds.\n",
      "analyzing image 1000 / 3199. Time: 4.5251 seconds.\n",
      "analyzing image 1500 / 3199. Time: 4.5107 seconds.\n",
      "analyzing image 2000 / 3199. Time: 4.7232 seconds.\n",
      "analyzing image 2500 / 3199. Time: 4.6034 seconds.\n",
      "analyzing image 3000 / 3199. Time: 5.0565 seconds.\n",
      "finished extracting features for 3199 images\n"
     ]
    }
   ],
   "source": [
    "import time\n",
    "tic = time.clock()\n",
    "\n",
    "\n",
    "features = []\n",
    "for i, image_path in enumerate(images):\n",
    "    if i % 500 == 0:\n",
    "        toc = time.clock()\n",
    "        elap = toc-tic;\n",
    "        print(\"analyzing image %d / %d. Time: %4.4f seconds.\" % (i, len(images),elap))\n",
    "        tic = time.clock()\n",
    "    img, x = load_image(image_path);\n",
    "    feat = feat_extractor.predict(x)[0]\n",
    "    features.append(feat)\n",
    "\n",
    "print('finished extracting features for %d images' % len(images))"
   ]
  },
  {
   "cell_type": "code",
   "execution_count": 13,
   "metadata": {
    "collapsed": false
   },
   "outputs": [
    {
     "data": {
      "text/plain": [
       "PCA(copy=True, n_components=300, whiten=False)"
      ]
     },
     "execution_count": 13,
     "metadata": {},
     "output_type": "execute_result"
    }
   ],
   "source": [
    "from sklearn.decomposition import PCA\n",
    "\n",
    "features = np.array(features)\n",
    "pca = PCA(n_components=300)\n",
    "pca.fit(features)"
   ]
  },
  {
   "cell_type": "code",
   "execution_count": 14,
   "metadata": {
    "collapsed": true
   },
   "outputs": [],
   "source": [
    "pca_features = pca.transform(features)"
   ]
  },
  {
   "cell_type": "code",
   "execution_count": 37,
   "metadata": {
    "collapsed": false
   },
   "outputs": [
    {
     "data": {
      "text/plain": [
       "(3199, 300)"
      ]
     },
     "execution_count": 37,
     "metadata": {},
     "output_type": "execute_result"
    }
   ],
   "source": [
    "pca_features.shape"
   ]
  },
  {
   "cell_type": "code",
   "execution_count": 15,
   "metadata": {
    "collapsed": false
   },
   "outputs": [],
   "source": [
    "map_measure=map_from_feature_matrix(pca_features, labels, 'cosine', True)\n"
   ]
  },
  {
   "cell_type": "code",
   "execution_count": 16,
   "metadata": {
    "collapsed": false
   },
   "outputs": [
    {
     "name": "stdout",
     "output_type": "stream",
     "text": [
      "0.062386075062\n"
     ]
    }
   ],
   "source": [
    "print(map_measure[0])"
   ]
  },
  {
   "cell_type": "code",
   "execution_count": 17,
   "metadata": {
    "collapsed": false
   },
   "outputs": [
    {
     "data": {
      "text/plain": [
       "<matplotlib.image.AxesImage at 0x7f30657136d8>"
      ]
     },
     "execution_count": 17,
     "metadata": {},
     "output_type": "execute_result"
    }
   ],
   "source": [
    "import random\n",
    "\n",
    "# grab a random query image\n",
    "query_image_idx = int(len(images) * random.random())\n",
    "\n",
    "# let's display the image\n",
    "img = image.load_img(images[query_image_idx])\n",
    "plt.imshow(img)\n",
    "#plt.show()"
   ]
  },
  {
   "cell_type": "code",
   "execution_count": 18,
   "metadata": {
    "collapsed": true
   },
   "outputs": [],
   "source": [
    "from scipy.spatial import distance\n",
    "\n",
    "similar_idx = [ distance.cosine(pca_features[query_image_idx], feat) for feat in pca_features ]"
   ]
  },
  {
   "cell_type": "code",
   "execution_count": 19,
   "metadata": {
    "collapsed": true
   },
   "outputs": [],
   "source": [
    "idx_closest = sorted(range(len(similar_idx)), key=lambda k: similar_idx[k])[1:6]"
   ]
  },
  {
   "cell_type": "code",
   "execution_count": 20,
   "metadata": {
    "collapsed": false
   },
   "outputs": [
    {
     "data": {
      "text/plain": [
       "<matplotlib.image.AxesImage at 0x7f3065721eb8>"
      ]
     },
     "execution_count": 20,
     "metadata": {},
     "output_type": "execute_result"
    }
   ],
   "source": [
    "# load all the similarity results as thumbnails of height 100\n",
    "thumbs = []\n",
    "for idx in idx_closest:\n",
    "    img = image.load_img(images[idx])\n",
    "    img = img.resize((int(img.width * 100 / img.height), 100))\n",
    "    thumbs.append(img)\n",
    "\n",
    "# concatenate the images into a single image\n",
    "concat_image = np.concatenate([np.asarray(t) for t in thumbs], axis=1)\n",
    "\n",
    "# show the image\n",
    "plt.figure(figsize = (16,12))\n",
    "plt.imshow(concat_image)\n",
    "#plt.show()"
   ]
  },
  {
   "cell_type": "code",
   "execution_count": 31,
   "metadata": {
    "collapsed": true
   },
   "outputs": [],
   "source": [
    "\n",
    "def get_closest_images(query_image_idx, num_results=5):\n",
    "    distances = [ distance.cosine(pca_features[query_image_idx], feat) for feat in pca_features ]\n",
    "    idx_closest = sorted(range(len(distances)), key=lambda k: distances[k])[1:num_results+1]\n",
    "    return idx_closest\n",
    "\n",
    "def get_concatenated_images(indexes, thumb_height):\n",
    "    thumbs = []\n",
    "    for idx in indexes:\n",
    "        img = image.load_img(images[idx])\n",
    "        img = img.resize((int(img.width * thumb_height / img.height), thumb_height))\n",
    "        thumbs.append(img)\n",
    "    concat_image = np.concatenate([np.asarray(t) for t in thumbs], axis=1)\n",
    "    return concat_image"
   ]
  },
  {
   "cell_type": "code",
   "execution_count": 82,
   "metadata": {
    "collapsed": false
   },
   "outputs": [],
   "source": [
    "\n",
    "# do a query on a random image\n",
    "query_image_idx = int(len(images) * random.random())\n",
    "idx_closest = get_closest_images(query_image_idx)\n",
    "query_image = get_concatenated_images([query_image_idx], 300)\n",
    "results_image = get_concatenated_images(idx_closest, 200)\n",
    "\n",
    "# display the query image\n",
    "#plt.figure(figsize = (5,5))\n",
    "#plt.imshow(query_image)\n",
    "#plt.title(\"query image (%d)\" % query_image_idx)\n",
    "\n",
    "# display the resulting images\n",
    "#plt.figure(figsize = (16,12))\n",
    "#plt.imshow(results_image)\n",
    "#plt.title(\"result images\")\n",
    "#plt.show()"
   ]
  },
  {
   "cell_type": "code",
   "execution_count": 21,
   "metadata": {
    "collapsed": true
   },
   "outputs": [],
   "source": [
    "import pickle\n",
    "\n",
    "pickle.dump([labels, images, pca_features, pca], open('features_pinkas.p', 'wb'))"
   ]
  },
  {
   "cell_type": "code",
   "execution_count": 22,
   "metadata": {
    "collapsed": true
   },
   "outputs": [],
   "source": [
    "%matplotlib inline\n",
    "import os\n",
    "import random\n",
    "import numpy as np\n",
    "import json\n",
    "import matplotlib.pyplot\n",
    "import pickle\n",
    "from matplotlib.pyplot import imshow\n",
    "from PIL import Image\n",
    "from sklearn.manifold import TSNE"
   ]
  },
  {
   "cell_type": "code",
   "execution_count": 30,
   "metadata": {
    "collapsed": false
   },
   "outputs": [
    {
     "name": "stdout",
     "output_type": "stream",
     "text": [
      "image: 3093 foldered_test/3093/3093_1.png, features: 17.23,5.88,16.04,10.95... \n",
      "image: 3093 foldered_test/3093/3093_2.png, features: 23.74,9.75,-2.29,-10.65... \n",
      "image: 3107 foldered_test/3107/3107_1.png, features: 29.28,7.64,-9.47,1.92... \n",
      "image: 3100 foldered_test/3100/3100_2.png, features: 25.89,7.42,-16.56,-8.87... \n",
      "image: 3100 foldered_test/3100/3100_1.png, features: 29.74,-10.21,-4.88,2.96... \n"
     ]
    }
   ],
   "source": [
    "labels, images, pca_features, pca = pickle.load(open('features_pinkas.p', 'rb'))\n",
    "\n",
    "for label, img, f in list(zip(labels, images, pca_features))[0:5]:\n",
    "    print(\"image: %i %s, features: %0.2f,%0.2f,%0.2f,%0.2f... \"%(label,img, f[0], f[1], f[2], f[3]))"
   ]
  },
  {
   "cell_type": "code",
   "execution_count": 28,
   "metadata": {
    "collapsed": false
   },
   "outputs": [],
   "source": [
    "num_images_to_plot = 3199\n",
    "\n",
    "if len(images) > num_images_to_plot:\n",
    "    sort_order = sorted(random.sample(range(len(images)), num_images_to_plot))\n",
    "    images = [images[i] for i in sort_order]\n",
    "    labels = [labels[i] for i in sort_order]\n",
    "    pca_features = [pca_features[i] for i in sort_order]"
   ]
  },
  {
   "cell_type": "code",
   "execution_count": 29,
   "metadata": {
    "collapsed": false
   },
   "outputs": [
    {
     "name": "stdout",
     "output_type": "stream",
     "text": [
      "[t-SNE] Computing pairwise distances...\n",
      "[t-SNE] Computing 91 nearest neighbors...\n",
      "[t-SNE] Computed conditional probabilities for sample 1000 / 3199\n",
      "[t-SNE] Computed conditional probabilities for sample 2000 / 3199\n",
      "[t-SNE] Computed conditional probabilities for sample 3000 / 3199\n",
      "[t-SNE] Computed conditional probabilities for sample 3199 / 3199\n",
      "[t-SNE] Mean sigma: 9.335648\n",
      "[t-SNE] Iteration 25: error = 2.2242932, gradient norm = 0.0000470\n",
      "[t-SNE] Iteration 25: gradient norm 0.000047. Finished.\n",
      "[t-SNE] Iteration 50: error = 2.2214358, gradient norm = 0.0085151\n",
      "[t-SNE] Iteration 75: error = 2.1536505, gradient norm = 0.0125699\n",
      "[t-SNE] Iteration 100: error = 2.1251090, gradient norm = 0.0109278\n",
      "[t-SNE] Error after 100 iterations with early exaggeration: 2.125109\n",
      "[t-SNE] Iteration 125: error = 1.9690686, gradient norm = 0.0057830\n",
      "[t-SNE] Iteration 150: error = 1.9284996, gradient norm = 0.0050214\n",
      "[t-SNE] Iteration 175: error = 1.9188839, gradient norm = 0.0048645\n",
      "[t-SNE] Iteration 200: error = 1.9163278, gradient norm = 0.0048237\n",
      "[t-SNE] Iteration 225: error = 1.9156290, gradient norm = 0.0048126\n",
      "[t-SNE] Iteration 250: error = 1.9154353, gradient norm = 0.0048095\n",
      "[t-SNE] Iteration 275: error = 1.9153835, gradient norm = 0.0048086\n",
      "[t-SNE] Iteration 300: error = 1.9153694, gradient norm = 0.0048084\n",
      "[t-SNE] Iteration 325: error = 1.9153647, gradient norm = 0.0048083\n",
      "[t-SNE] Iteration 350: error = 1.9153639, gradient norm = 0.0048083\n",
      "[t-SNE] Iteration 350: error difference 0.000000. Finished.\n",
      "[t-SNE] Error after 350 iterations: 1.915364\n"
     ]
    }
   ],
   "source": [
    "X = np.array(pca_features)\n",
    "tsne = TSNE(n_components=2, learning_rate=150, perplexity=30, angle=0.2, verbose=2).fit_transform(X)"
   ]
  },
  {
   "cell_type": "code",
   "execution_count": 32,
   "metadata": {
    "collapsed": true
   },
   "outputs": [],
   "source": [
    "tx, ty = tsne[:,0], tsne[:,1]\n",
    "tx = (tx-np.min(tx)) / (np.max(tx) - np.min(tx))\n",
    "ty = (ty-np.min(ty)) / (np.max(ty) - np.min(ty))"
   ]
  },
  {
   "cell_type": "code",
   "execution_count": 69,
   "metadata": {
    "collapsed": false
   },
   "outputs": [
    {
     "data": {
      "text/plain": [
       "array([[ 0.58272586,  0.76518065],\n",
       "       [ 0.74415892,  0.6375444 ],\n",
       "       [ 0.88778866,  0.26861374],\n",
       "       ..., \n",
       "       [ 0.41762432,  0.06372407],\n",
       "       [ 0.60387857,  0.63404951],\n",
       "       [ 0.40072419,  0.41556351]])"
      ]
     },
     "execution_count": 69,
     "metadata": {},
     "output_type": "execute_result"
    }
   ],
   "source": [
    "temp=np.array([tx,ty]).reshape(3199,2)\n",
    "temp"
   ]
  },
  {
   "cell_type": "code",
   "execution_count": 75,
   "metadata": {
    "collapsed": false
   },
   "outputs": [
    {
     "name": "stdout",
     "output_type": "stream",
     "text": [
      "0.0257335865004\n"
     ]
    }
   ],
   "source": [
    "map_measure=map_from_feature_matrix(tsne, labels, 'euclidean', True)\n",
    "print (map_measure[0])"
   ]
  },
  {
   "cell_type": "code",
   "execution_count": 77,
   "metadata": {
    "collapsed": false
   },
   "outputs": [
    {
     "data": {
      "text/plain": [
       "<matplotlib.figure.Figure at 0x7fe8f86ca198>"
      ]
     },
     "execution_count": 77,
     "metadata": {},
     "output_type": "execute_result"
    },
    {
     "data": {
      "text/plain": [
       "<matplotlib.figure.Figure at 0x7fe8f86ca198>"
      ]
     },
     "metadata": {},
     "output_type": "display_data"
    }
   ],
   "source": [
    "width = 4000\n",
    "height = 3000\n",
    "max_dim = 100\n",
    "\n",
    "full_image = Image.new('RGBA', (width, height))\n",
    "for img, x, y in zip(images, tx, ty):\n",
    "    tile = Image.open(img)\n",
    "    rs = max(1, tile.width/max_dim, tile.height/max_dim)\n",
    "    tile = tile.resize((int(tile.width/rs), int(tile.height/rs)), Image.ANTIALIAS)\n",
    "    full_image.paste(tile, (int((width-max_dim)*x), int((height-max_dim)*y)), mask=tile.convert('RGBA'))\n",
    "\n",
    "matplotlib.pyplot.figure(figsize = (16,12))\n",
    "#imshow(full_image)"
   ]
  },
  {
   "cell_type": "code",
   "execution_count": 41,
   "metadata": {
    "collapsed": true
   },
   "outputs": [],
   "source": [
    "full_image.save(\"tSNE_pinkas.png\")"
   ]
  },
  {
   "cell_type": "code",
   "execution_count": 42,
   "metadata": {
    "collapsed": false
   },
   "outputs": [
    {
     "name": "stdout",
     "output_type": "stream",
     "text": [
      "saved t-SNE result to tSNE_points_pinkas.json\n"
     ]
    }
   ],
   "source": [
    "tsne_path = \"tSNE_points_pinkas.json\"\n",
    "\n",
    "data = [{\"path\":os.path.abspath(img), \"point\":[float(x), float(y)]} for img, x, y in zip(images, tx, ty)]\n",
    "with open(tsne_path, 'w') as outfile:\n",
    "    json.dump(data, outfile)\n",
    "\n",
    "print(\"saved t-SNE result to %s\" % tsne_path)"
   ]
  },
  {
   "cell_type": "code",
   "execution_count": 58,
   "metadata": {
    "collapsed": false
   },
   "outputs": [],
   "source": [
    "import rasterfairy\n",
    "\n",
    "# nx * ny = 1000, the number of images\n",
    "nx = 50\n",
    "ny = 64\n",
    "\n",
    "# assign to grid\n",
    "grid_assignment = rasterfairy.transformPointCloud2D(tsne, target=(nx, ny))"
   ]
  },
  {
   "cell_type": "code",
   "execution_count": 78,
   "metadata": {
    "collapsed": false
   },
   "outputs": [
    {
     "data": {
      "text/plain": [
       "<matplotlib.figure.Figure at 0x7fe8f87a6ba8>"
      ]
     },
     "execution_count": 78,
     "metadata": {},
     "output_type": "execute_result"
    },
    {
     "data": {
      "text/plain": [
       "<matplotlib.figure.Figure at 0x7fe8f87a6ba8>"
      ]
     },
     "metadata": {},
     "output_type": "display_data"
    }
   ],
   "source": [
    "tile_width = 72\n",
    "tile_height = 56\n",
    "\n",
    "full_width = tile_width * nx\n",
    "full_height = tile_height * ny\n",
    "aspect_ratio = float(tile_width) / tile_height\n",
    "\n",
    "grid_image = Image.new('RGB', (full_width, full_height))\n",
    "\n",
    "for img, grid_pos in zip(images, grid_assignment[0]):\n",
    "    idx_x, idx_y = grid_pos\n",
    "    x, y = tile_width * idx_x, tile_height * idx_y\n",
    "    tile = Image.open(img)\n",
    "    tile_ar = float(tile.width) / tile.height  # center-crop the tile to match aspect_ratio\n",
    "    #if (tile_ar > aspect_ratio):\n",
    "     #   margin = 0.5 * (tile.width - aspect_ratio * tile.height)\n",
    "      #  tile = tile.crop((margin, 0, margin + aspect_ratio * tile.height, tile.height))\n",
    "    #else:\n",
    "     #   margin = 0.5 * (tile.height - float(tile.width) / aspect_ratio)\n",
    "      #  tile = tile.crop((0, margin, tile.width, margin + float(tile.width) / aspect_ratio))\n",
    "    #tile = tile.resize((tile_width, tile_height), Image.ANTIALIAS)\n",
    "    grid_image.paste(tile, (int(x), int(y)))\n",
    "\n",
    "matplotlib.pyplot.figure(figsize = (16,12))\n",
    "#imshow(grid_image)"
   ]
  },
  {
   "cell_type": "code",
   "execution_count": 74,
   "metadata": {
    "collapsed": true
   },
   "outputs": [],
   "source": [
    "grid_image.save(\"tSNE_grid_pinkas.jpg\")"
   ]
  }
 ],
 "metadata": {
  "kernelspec": {
   "display_name": "Python 3",
   "language": "python",
   "name": "python3"
  },
  "language_info": {
   "codemirror_mode": {
    "name": "ipython",
    "version": 3
   },
   "file_extension": ".py",
   "mimetype": "text/x-python",
   "name": "python",
   "nbconvert_exporter": "python",
   "pygments_lexer": "ipython3",
   "version": "3.5.2"
  }
 },
 "nbformat": 4,
 "nbformat_minor": 1
}
